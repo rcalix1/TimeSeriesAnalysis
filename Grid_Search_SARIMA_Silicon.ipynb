{
 "cells": [
  {
   "cell_type": "markdown",
   "id": "ccd613a0",
   "metadata": {},
   "source": [
    "\n",
    "## Time Series data \n",
    "\n",
    "* traditional\n"
   ]
  },
  {
   "cell_type": "code",
   "execution_count": 1,
   "id": "7f5333a9",
   "metadata": {},
   "outputs": [],
   "source": [
    "\n",
    "## !pip install seaborn\n",
    "## !pip install matplotlib\n",
    "## !pip install hvplot\n",
    "## !pip install PyViz\n",
    "## !pip install statsmodels\n",
    "## !pip install scikit-learn\n",
    "\n"
   ]
  },
  {
   "cell_type": "code",
   "execution_count": 2,
   "id": "35b0cd45",
   "metadata": {},
   "outputs": [
    {
     "data": {
      "application/javascript": [
       "(function(root) {\n",
       "  function now() {\n",
       "    return new Date();\n",
       "  }\n",
       "\n",
       "  var force = true;\n",
       "\n",
       "  if (typeof root._bokeh_onload_callbacks === \"undefined\" || force === true) {\n",
       "    root._bokeh_onload_callbacks = [];\n",
       "    root._bokeh_is_loading = undefined;\n",
       "  }\n",
       "\n",
       "  if (typeof (root._bokeh_timeout) === \"undefined\" || force === true) {\n",
       "    root._bokeh_timeout = Date.now() + 5000;\n",
       "    root._bokeh_failed_load = false;\n",
       "  }\n",
       "\n",
       "  function run_callbacks() {\n",
       "    try {\n",
       "      root._bokeh_onload_callbacks.forEach(function(callback) {\n",
       "        if (callback != null)\n",
       "          callback();\n",
       "      });\n",
       "    } finally {\n",
       "      delete root._bokeh_onload_callbacks\n",
       "    }\n",
       "    console.debug(\"Bokeh: all callbacks have finished\");\n",
       "  }\n",
       "\n",
       "  function load_libs(css_urls, js_urls, js_modules, callback) {\n",
       "    if (css_urls == null) css_urls = [];\n",
       "    if (js_urls == null) js_urls = [];\n",
       "    if (js_modules == null) js_modules = [];\n",
       "\n",
       "    root._bokeh_onload_callbacks.push(callback);\n",
       "    if (root._bokeh_is_loading > 0) {\n",
       "      console.debug(\"Bokeh: BokehJS is being loaded, scheduling callback at\", now());\n",
       "      return null;\n",
       "    }\n",
       "    if (js_urls.length === 0 && js_modules.length === 0) {\n",
       "      run_callbacks();\n",
       "      return null;\n",
       "    }\n",
       "    console.debug(\"Bokeh: BokehJS not loaded, scheduling load and callback at\", now());\n",
       "\n",
       "    function on_load() {\n",
       "      root._bokeh_is_loading--;\n",
       "      if (root._bokeh_is_loading === 0) {\n",
       "        console.debug(\"Bokeh: all BokehJS libraries/stylesheets loaded\");\n",
       "        run_callbacks()\n",
       "      }\n",
       "    }\n",
       "\n",
       "    function on_error() {\n",
       "      console.error(\"failed to load \" + url);\n",
       "    }\n",
       "\n",
       "    for (var i = 0; i < css_urls.length; i++) {\n",
       "      var url = css_urls[i];\n",
       "      const element = document.createElement(\"link\");\n",
       "      element.onload = on_load;\n",
       "      element.onerror = on_error;\n",
       "      element.rel = \"stylesheet\";\n",
       "      element.type = \"text/css\";\n",
       "      element.href = url;\n",
       "      console.debug(\"Bokeh: injecting link tag for BokehJS stylesheet: \", url);\n",
       "      document.body.appendChild(element);\n",
       "    }\n",
       "\n",
       "    var skip = [];\n",
       "    if (window.requirejs) {\n",
       "      window.requirejs.config({'packages': {}, 'paths': {'gridstack': 'https://cdn.jsdelivr.net/npm/gridstack@4.2.5/dist/gridstack-h5', 'notyf': 'https://cdn.jsdelivr.net/npm/notyf@3/notyf.min'}, 'shim': {'gridstack': {'exports': 'GridStack'}}});\n",
       "      require([\"gridstack\"], function(GridStack) {\n",
       "\twindow.GridStack = GridStack\n",
       "\ton_load()\n",
       "      })\n",
       "      require([\"notyf\"], function() {\n",
       "\ton_load()\n",
       "      })\n",
       "      root._bokeh_is_loading = css_urls.length + 2;\n",
       "    } else {\n",
       "      root._bokeh_is_loading = css_urls.length + js_urls.length + js_modules.length;\n",
       "    }    if (((window['GridStack'] !== undefined) && (!(window['GridStack'] instanceof HTMLElement))) || window.requirejs) {\n",
       "      var urls = ['https://cdn.holoviz.org/panel/0.14.4/dist/bundled/gridstack/gridstack@4.2.5/dist/gridstack-h5.js'];\n",
       "      for (var i = 0; i < urls.length; i++) {\n",
       "        skip.push(urls[i])\n",
       "      }\n",
       "    }    if (((window['Notyf'] !== undefined) && (!(window['Notyf'] instanceof HTMLElement))) || window.requirejs) {\n",
       "      var urls = ['https://cdn.holoviz.org/panel/0.14.4/dist/bundled/notificationarea/notyf@3/notyf.min.js'];\n",
       "      for (var i = 0; i < urls.length; i++) {\n",
       "        skip.push(urls[i])\n",
       "      }\n",
       "    }    for (var i = 0; i < js_urls.length; i++) {\n",
       "      var url = js_urls[i];\n",
       "      if (skip.indexOf(url) >= 0) {\n",
       "\tif (!window.requirejs) {\n",
       "\t  on_load();\n",
       "\t}\n",
       "\tcontinue;\n",
       "      }\n",
       "      var element = document.createElement('script');\n",
       "      element.onload = on_load;\n",
       "      element.onerror = on_error;\n",
       "      element.async = false;\n",
       "      element.src = url;\n",
       "      console.debug(\"Bokeh: injecting script tag for BokehJS library: \", url);\n",
       "      document.head.appendChild(element);\n",
       "    }\n",
       "    for (var i = 0; i < js_modules.length; i++) {\n",
       "      var url = js_modules[i];\n",
       "      if (skip.indexOf(url) >= 0) {\n",
       "\tif (!window.requirejs) {\n",
       "\t  on_load();\n",
       "\t}\n",
       "\tcontinue;\n",
       "      }\n",
       "      var element = document.createElement('script');\n",
       "      element.onload = on_load;\n",
       "      element.onerror = on_error;\n",
       "      element.async = false;\n",
       "      element.src = url;\n",
       "      element.type = \"module\";\n",
       "      console.debug(\"Bokeh: injecting script tag for BokehJS library: \", url);\n",
       "      document.head.appendChild(element);\n",
       "    }\n",
       "    if (!js_urls.length && !js_modules.length) {\n",
       "      on_load()\n",
       "    }\n",
       "  };\n",
       "\n",
       "  function inject_raw_css(css) {\n",
       "    const element = document.createElement(\"style\");\n",
       "    element.appendChild(document.createTextNode(css));\n",
       "    document.body.appendChild(element);\n",
       "  }\n",
       "\n",
       "  var js_urls = [\"https://cdn.bokeh.org/bokeh/release/bokeh-2.4.3.min.js\", \"https://cdn.bokeh.org/bokeh/release/bokeh-gl-2.4.3.min.js\", \"https://cdn.bokeh.org/bokeh/release/bokeh-widgets-2.4.3.min.js\", \"https://cdn.bokeh.org/bokeh/release/bokeh-tables-2.4.3.min.js\", \"https://cdn.bokeh.org/bokeh/release/bokeh-mathjax-2.4.3.min.js\", \"https://unpkg.com/@holoviz/panel@0.14.4/dist/panel.min.js\"];\n",
       "  var js_modules = [];\n",
       "  var css_urls = [\"https://cdn.holoviz.org/panel/0.14.4/dist/css/debugger.css\", \"https://cdn.holoviz.org/panel/0.14.4/dist/css/alerts.css\", \"https://cdn.holoviz.org/panel/0.14.4/dist/css/card.css\", \"https://cdn.holoviz.org/panel/0.14.4/dist/css/widgets.css\", \"https://cdn.holoviz.org/panel/0.14.4/dist/css/markdown.css\", \"https://cdn.holoviz.org/panel/0.14.4/dist/css/json.css\", \"https://cdn.holoviz.org/panel/0.14.4/dist/css/loading.css\", \"https://cdn.holoviz.org/panel/0.14.4/dist/css/dataframe.css\"];\n",
       "  var inline_js = [    function(Bokeh) {\n",
       "      inject_raw_css(\"\\n    .bk.pn-loading.arc:before {\\n      background-image: url(\\\"data:image/svg+xml;base64,PHN2ZyB4bWxucz0iaHR0cDovL3d3dy53My5vcmcvMjAwMC9zdmciIHN0eWxlPSJtYXJnaW46IGF1dG87IGJhY2tncm91bmQ6IG5vbmU7IGRpc3BsYXk6IGJsb2NrOyBzaGFwZS1yZW5kZXJpbmc6IGF1dG87IiB2aWV3Qm94PSIwIDAgMTAwIDEwMCIgcHJlc2VydmVBc3BlY3RSYXRpbz0ieE1pZFlNaWQiPiAgPGNpcmNsZSBjeD0iNTAiIGN5PSI1MCIgZmlsbD0ibm9uZSIgc3Ryb2tlPSIjYzNjM2MzIiBzdHJva2Utd2lkdGg9IjEwIiByPSIzNSIgc3Ryb2tlLWRhc2hhcnJheT0iMTY0LjkzMzYxNDMxMzQ2NDE1IDU2Ljk3Nzg3MTQzNzgyMTM4Ij4gICAgPGFuaW1hdGVUcmFuc2Zvcm0gYXR0cmlidXRlTmFtZT0idHJhbnNmb3JtIiB0eXBlPSJyb3RhdGUiIHJlcGVhdENvdW50PSJpbmRlZmluaXRlIiBkdXI9IjFzIiB2YWx1ZXM9IjAgNTAgNTA7MzYwIDUwIDUwIiBrZXlUaW1lcz0iMDsxIj48L2FuaW1hdGVUcmFuc2Zvcm0+ICA8L2NpcmNsZT48L3N2Zz4=\\\");\\n      background-size: auto calc(min(50%, 400px));\\n    }\\n    \");\n",
       "    },    function(Bokeh) {\n",
       "      Bokeh.set_log_level(\"info\");\n",
       "    },\n",
       "function(Bokeh) {} // ensure no trailing comma for IE\n",
       "  ];\n",
       "\n",
       "  function run_inline_js() {\n",
       "    if ((root.Bokeh !== undefined) || (force === true)) {\n",
       "      for (var i = 0; i < inline_js.length; i++) {\n",
       "        inline_js[i].call(root, root.Bokeh);\n",
       "      }} else if (Date.now() < root._bokeh_timeout) {\n",
       "      setTimeout(run_inline_js, 100);\n",
       "    } else if (!root._bokeh_failed_load) {\n",
       "      console.log(\"Bokeh: BokehJS failed to load within specified timeout.\");\n",
       "      root._bokeh_failed_load = true;\n",
       "    }\n",
       "  }\n",
       "\n",
       "  if (root._bokeh_is_loading === 0) {\n",
       "    console.debug(\"Bokeh: BokehJS loaded, going straight to plotting\");\n",
       "    run_inline_js();\n",
       "  } else {\n",
       "    load_libs(css_urls, js_urls, js_modules, function() {\n",
       "      console.debug(\"Bokeh: BokehJS plotting callback run at\", now());\n",
       "      run_inline_js();\n",
       "    });\n",
       "  }\n",
       "}(window));"
      ],
      "application/vnd.holoviews_load.v0+json": "(function(root) {\n  function now() {\n    return new Date();\n  }\n\n  var force = true;\n\n  if (typeof root._bokeh_onload_callbacks === \"undefined\" || force === true) {\n    root._bokeh_onload_callbacks = [];\n    root._bokeh_is_loading = undefined;\n  }\n\n  if (typeof (root._bokeh_timeout) === \"undefined\" || force === true) {\n    root._bokeh_timeout = Date.now() + 5000;\n    root._bokeh_failed_load = false;\n  }\n\n  function run_callbacks() {\n    try {\n      root._bokeh_onload_callbacks.forEach(function(callback) {\n        if (callback != null)\n          callback();\n      });\n    } finally {\n      delete root._bokeh_onload_callbacks\n    }\n    console.debug(\"Bokeh: all callbacks have finished\");\n  }\n\n  function load_libs(css_urls, js_urls, js_modules, callback) {\n    if (css_urls == null) css_urls = [];\n    if (js_urls == null) js_urls = [];\n    if (js_modules == null) js_modules = [];\n\n    root._bokeh_onload_callbacks.push(callback);\n    if (root._bokeh_is_loading > 0) {\n      console.debug(\"Bokeh: BokehJS is being loaded, scheduling callback at\", now());\n      return null;\n    }\n    if (js_urls.length === 0 && js_modules.length === 0) {\n      run_callbacks();\n      return null;\n    }\n    console.debug(\"Bokeh: BokehJS not loaded, scheduling load and callback at\", now());\n\n    function on_load() {\n      root._bokeh_is_loading--;\n      if (root._bokeh_is_loading === 0) {\n        console.debug(\"Bokeh: all BokehJS libraries/stylesheets loaded\");\n        run_callbacks()\n      }\n    }\n\n    function on_error() {\n      console.error(\"failed to load \" + url);\n    }\n\n    for (var i = 0; i < css_urls.length; i++) {\n      var url = css_urls[i];\n      const element = document.createElement(\"link\");\n      element.onload = on_load;\n      element.onerror = on_error;\n      element.rel = \"stylesheet\";\n      element.type = \"text/css\";\n      element.href = url;\n      console.debug(\"Bokeh: injecting link tag for BokehJS stylesheet: \", url);\n      document.body.appendChild(element);\n    }\n\n    var skip = [];\n    if (window.requirejs) {\n      window.requirejs.config({'packages': {}, 'paths': {'gridstack': 'https://cdn.jsdelivr.net/npm/gridstack@4.2.5/dist/gridstack-h5', 'notyf': 'https://cdn.jsdelivr.net/npm/notyf@3/notyf.min'}, 'shim': {'gridstack': {'exports': 'GridStack'}}});\n      require([\"gridstack\"], function(GridStack) {\n\twindow.GridStack = GridStack\n\ton_load()\n      })\n      require([\"notyf\"], function() {\n\ton_load()\n      })\n      root._bokeh_is_loading = css_urls.length + 2;\n    } else {\n      root._bokeh_is_loading = css_urls.length + js_urls.length + js_modules.length;\n    }    if (((window['GridStack'] !== undefined) && (!(window['GridStack'] instanceof HTMLElement))) || window.requirejs) {\n      var urls = ['https://cdn.holoviz.org/panel/0.14.4/dist/bundled/gridstack/gridstack@4.2.5/dist/gridstack-h5.js'];\n      for (var i = 0; i < urls.length; i++) {\n        skip.push(urls[i])\n      }\n    }    if (((window['Notyf'] !== undefined) && (!(window['Notyf'] instanceof HTMLElement))) || window.requirejs) {\n      var urls = ['https://cdn.holoviz.org/panel/0.14.4/dist/bundled/notificationarea/notyf@3/notyf.min.js'];\n      for (var i = 0; i < urls.length; i++) {\n        skip.push(urls[i])\n      }\n    }    for (var i = 0; i < js_urls.length; i++) {\n      var url = js_urls[i];\n      if (skip.indexOf(url) >= 0) {\n\tif (!window.requirejs) {\n\t  on_load();\n\t}\n\tcontinue;\n      }\n      var element = document.createElement('script');\n      element.onload = on_load;\n      element.onerror = on_error;\n      element.async = false;\n      element.src = url;\n      console.debug(\"Bokeh: injecting script tag for BokehJS library: \", url);\n      document.head.appendChild(element);\n    }\n    for (var i = 0; i < js_modules.length; i++) {\n      var url = js_modules[i];\n      if (skip.indexOf(url) >= 0) {\n\tif (!window.requirejs) {\n\t  on_load();\n\t}\n\tcontinue;\n      }\n      var element = document.createElement('script');\n      element.onload = on_load;\n      element.onerror = on_error;\n      element.async = false;\n      element.src = url;\n      element.type = \"module\";\n      console.debug(\"Bokeh: injecting script tag for BokehJS library: \", url);\n      document.head.appendChild(element);\n    }\n    if (!js_urls.length && !js_modules.length) {\n      on_load()\n    }\n  };\n\n  function inject_raw_css(css) {\n    const element = document.createElement(\"style\");\n    element.appendChild(document.createTextNode(css));\n    document.body.appendChild(element);\n  }\n\n  var js_urls = [\"https://cdn.bokeh.org/bokeh/release/bokeh-2.4.3.min.js\", \"https://cdn.bokeh.org/bokeh/release/bokeh-gl-2.4.3.min.js\", \"https://cdn.bokeh.org/bokeh/release/bokeh-widgets-2.4.3.min.js\", \"https://cdn.bokeh.org/bokeh/release/bokeh-tables-2.4.3.min.js\", \"https://cdn.bokeh.org/bokeh/release/bokeh-mathjax-2.4.3.min.js\", \"https://unpkg.com/@holoviz/panel@0.14.4/dist/panel.min.js\"];\n  var js_modules = [];\n  var css_urls = [\"https://cdn.holoviz.org/panel/0.14.4/dist/css/debugger.css\", \"https://cdn.holoviz.org/panel/0.14.4/dist/css/alerts.css\", \"https://cdn.holoviz.org/panel/0.14.4/dist/css/card.css\", \"https://cdn.holoviz.org/panel/0.14.4/dist/css/widgets.css\", \"https://cdn.holoviz.org/panel/0.14.4/dist/css/markdown.css\", \"https://cdn.holoviz.org/panel/0.14.4/dist/css/json.css\", \"https://cdn.holoviz.org/panel/0.14.4/dist/css/loading.css\", \"https://cdn.holoviz.org/panel/0.14.4/dist/css/dataframe.css\"];\n  var inline_js = [    function(Bokeh) {\n      inject_raw_css(\"\\n    .bk.pn-loading.arc:before {\\n      background-image: url(\\\"data:image/svg+xml;base64,PHN2ZyB4bWxucz0iaHR0cDovL3d3dy53My5vcmcvMjAwMC9zdmciIHN0eWxlPSJtYXJnaW46IGF1dG87IGJhY2tncm91bmQ6IG5vbmU7IGRpc3BsYXk6IGJsb2NrOyBzaGFwZS1yZW5kZXJpbmc6IGF1dG87IiB2aWV3Qm94PSIwIDAgMTAwIDEwMCIgcHJlc2VydmVBc3BlY3RSYXRpbz0ieE1pZFlNaWQiPiAgPGNpcmNsZSBjeD0iNTAiIGN5PSI1MCIgZmlsbD0ibm9uZSIgc3Ryb2tlPSIjYzNjM2MzIiBzdHJva2Utd2lkdGg9IjEwIiByPSIzNSIgc3Ryb2tlLWRhc2hhcnJheT0iMTY0LjkzMzYxNDMxMzQ2NDE1IDU2Ljk3Nzg3MTQzNzgyMTM4Ij4gICAgPGFuaW1hdGVUcmFuc2Zvcm0gYXR0cmlidXRlTmFtZT0idHJhbnNmb3JtIiB0eXBlPSJyb3RhdGUiIHJlcGVhdENvdW50PSJpbmRlZmluaXRlIiBkdXI9IjFzIiB2YWx1ZXM9IjAgNTAgNTA7MzYwIDUwIDUwIiBrZXlUaW1lcz0iMDsxIj48L2FuaW1hdGVUcmFuc2Zvcm0+ICA8L2NpcmNsZT48L3N2Zz4=\\\");\\n      background-size: auto calc(min(50%, 400px));\\n    }\\n    \");\n    },    function(Bokeh) {\n      Bokeh.set_log_level(\"info\");\n    },\nfunction(Bokeh) {} // ensure no trailing comma for IE\n  ];\n\n  function run_inline_js() {\n    if ((root.Bokeh !== undefined) || (force === true)) {\n      for (var i = 0; i < inline_js.length; i++) {\n        inline_js[i].call(root, root.Bokeh);\n      }} else if (Date.now() < root._bokeh_timeout) {\n      setTimeout(run_inline_js, 100);\n    } else if (!root._bokeh_failed_load) {\n      console.log(\"Bokeh: BokehJS failed to load within specified timeout.\");\n      root._bokeh_failed_load = true;\n    }\n  }\n\n  if (root._bokeh_is_loading === 0) {\n    console.debug(\"Bokeh: BokehJS loaded, going straight to plotting\");\n    run_inline_js();\n  } else {\n    load_libs(css_urls, js_urls, js_modules, function() {\n      console.debug(\"Bokeh: BokehJS plotting callback run at\", now());\n      run_inline_js();\n    });\n  }\n}(window));"
     },
     "metadata": {},
     "output_type": "display_data"
    },
    {
     "data": {
      "application/javascript": [
       "\n",
       "if ((window.PyViz === undefined) || (window.PyViz instanceof HTMLElement)) {\n",
       "  window.PyViz = {comms: {}, comm_status:{}, kernels:{}, receivers: {}, plot_index: []}\n",
       "}\n",
       "\n",
       "\n",
       "    function JupyterCommManager() {\n",
       "    }\n",
       "\n",
       "    JupyterCommManager.prototype.register_target = function(plot_id, comm_id, msg_handler) {\n",
       "      if (window.comm_manager || ((window.Jupyter !== undefined) && (Jupyter.notebook.kernel != null))) {\n",
       "        var comm_manager = window.comm_manager || Jupyter.notebook.kernel.comm_manager;\n",
       "        comm_manager.register_target(comm_id, function(comm) {\n",
       "          comm.on_msg(msg_handler);\n",
       "        });\n",
       "      } else if ((plot_id in window.PyViz.kernels) && (window.PyViz.kernels[plot_id])) {\n",
       "        window.PyViz.kernels[plot_id].registerCommTarget(comm_id, function(comm) {\n",
       "          comm.onMsg = msg_handler;\n",
       "        });\n",
       "      } else if (typeof google != 'undefined' && google.colab.kernel != null) {\n",
       "        google.colab.kernel.comms.registerTarget(comm_id, (comm) => {\n",
       "          var messages = comm.messages[Symbol.asyncIterator]();\n",
       "          function processIteratorResult(result) {\n",
       "            var message = result.value;\n",
       "            console.log(message)\n",
       "            var content = {data: message.data, comm_id};\n",
       "            var buffers = []\n",
       "            for (var buffer of message.buffers || []) {\n",
       "              buffers.push(new DataView(buffer))\n",
       "            }\n",
       "            var metadata = message.metadata || {};\n",
       "            var msg = {content, buffers, metadata}\n",
       "            msg_handler(msg);\n",
       "            return messages.next().then(processIteratorResult);\n",
       "          }\n",
       "          return messages.next().then(processIteratorResult);\n",
       "        })\n",
       "      }\n",
       "    }\n",
       "\n",
       "    JupyterCommManager.prototype.get_client_comm = function(plot_id, comm_id, msg_handler) {\n",
       "      if (comm_id in window.PyViz.comms) {\n",
       "        return window.PyViz.comms[comm_id];\n",
       "      } else if (window.comm_manager || ((window.Jupyter !== undefined) && (Jupyter.notebook.kernel != null))) {\n",
       "        var comm_manager = window.comm_manager || Jupyter.notebook.kernel.comm_manager;\n",
       "        var comm = comm_manager.new_comm(comm_id, {}, {}, {}, comm_id);\n",
       "        if (msg_handler) {\n",
       "          comm.on_msg(msg_handler);\n",
       "        }\n",
       "      } else if ((plot_id in window.PyViz.kernels) && (window.PyViz.kernels[plot_id])) {\n",
       "        var comm = window.PyViz.kernels[plot_id].connectToComm(comm_id);\n",
       "        comm.open();\n",
       "        if (msg_handler) {\n",
       "          comm.onMsg = msg_handler;\n",
       "        }\n",
       "      } else if (typeof google != 'undefined' && google.colab.kernel != null) {\n",
       "        var comm_promise = google.colab.kernel.comms.open(comm_id)\n",
       "        comm_promise.then((comm) => {\n",
       "          window.PyViz.comms[comm_id] = comm;\n",
       "          if (msg_handler) {\n",
       "            var messages = comm.messages[Symbol.asyncIterator]();\n",
       "            function processIteratorResult(result) {\n",
       "              var message = result.value;\n",
       "              var content = {data: message.data};\n",
       "              var metadata = message.metadata || {comm_id};\n",
       "              var msg = {content, metadata}\n",
       "              msg_handler(msg);\n",
       "              return messages.next().then(processIteratorResult);\n",
       "            }\n",
       "            return messages.next().then(processIteratorResult);\n",
       "          }\n",
       "        }) \n",
       "        var sendClosure = (data, metadata, buffers, disposeOnDone) => {\n",
       "          return comm_promise.then((comm) => {\n",
       "            comm.send(data, metadata, buffers, disposeOnDone);\n",
       "          });\n",
       "        };\n",
       "        var comm = {\n",
       "          send: sendClosure\n",
       "        };\n",
       "      }\n",
       "      window.PyViz.comms[comm_id] = comm;\n",
       "      return comm;\n",
       "    }\n",
       "    window.PyViz.comm_manager = new JupyterCommManager();\n",
       "    \n",
       "\n",
       "\n",
       "var JS_MIME_TYPE = 'application/javascript';\n",
       "var HTML_MIME_TYPE = 'text/html';\n",
       "var EXEC_MIME_TYPE = 'application/vnd.holoviews_exec.v0+json';\n",
       "var CLASS_NAME = 'output';\n",
       "\n",
       "/**\n",
       " * Render data to the DOM node\n",
       " */\n",
       "function render(props, node) {\n",
       "  var div = document.createElement(\"div\");\n",
       "  var script = document.createElement(\"script\");\n",
       "  node.appendChild(div);\n",
       "  node.appendChild(script);\n",
       "}\n",
       "\n",
       "/**\n",
       " * Handle when a new output is added\n",
       " */\n",
       "function handle_add_output(event, handle) {\n",
       "  var output_area = handle.output_area;\n",
       "  var output = handle.output;\n",
       "  if ((output.data == undefined) || (!output.data.hasOwnProperty(EXEC_MIME_TYPE))) {\n",
       "    return\n",
       "  }\n",
       "  var id = output.metadata[EXEC_MIME_TYPE][\"id\"];\n",
       "  var toinsert = output_area.element.find(\".\" + CLASS_NAME.split(' ')[0]);\n",
       "  if (id !== undefined) {\n",
       "    var nchildren = toinsert.length;\n",
       "    var html_node = toinsert[nchildren-1].children[0];\n",
       "    html_node.innerHTML = output.data[HTML_MIME_TYPE];\n",
       "    var scripts = [];\n",
       "    var nodelist = html_node.querySelectorAll(\"script\");\n",
       "    for (var i in nodelist) {\n",
       "      if (nodelist.hasOwnProperty(i)) {\n",
       "        scripts.push(nodelist[i])\n",
       "      }\n",
       "    }\n",
       "\n",
       "    scripts.forEach( function (oldScript) {\n",
       "      var newScript = document.createElement(\"script\");\n",
       "      var attrs = [];\n",
       "      var nodemap = oldScript.attributes;\n",
       "      for (var j in nodemap) {\n",
       "        if (nodemap.hasOwnProperty(j)) {\n",
       "          attrs.push(nodemap[j])\n",
       "        }\n",
       "      }\n",
       "      attrs.forEach(function(attr) { newScript.setAttribute(attr.name, attr.value) });\n",
       "      newScript.appendChild(document.createTextNode(oldScript.innerHTML));\n",
       "      oldScript.parentNode.replaceChild(newScript, oldScript);\n",
       "    });\n",
       "    if (JS_MIME_TYPE in output.data) {\n",
       "      toinsert[nchildren-1].children[1].textContent = output.data[JS_MIME_TYPE];\n",
       "    }\n",
       "    output_area._hv_plot_id = id;\n",
       "    if ((window.Bokeh !== undefined) && (id in Bokeh.index)) {\n",
       "      window.PyViz.plot_index[id] = Bokeh.index[id];\n",
       "    } else {\n",
       "      window.PyViz.plot_index[id] = null;\n",
       "    }\n",
       "  } else if (output.metadata[EXEC_MIME_TYPE][\"server_id\"] !== undefined) {\n",
       "    var bk_div = document.createElement(\"div\");\n",
       "    bk_div.innerHTML = output.data[HTML_MIME_TYPE];\n",
       "    var script_attrs = bk_div.children[0].attributes;\n",
       "    for (var i = 0; i < script_attrs.length; i++) {\n",
       "      toinsert[toinsert.length - 1].childNodes[1].setAttribute(script_attrs[i].name, script_attrs[i].value);\n",
       "    }\n",
       "    // store reference to server id on output_area\n",
       "    output_area._bokeh_server_id = output.metadata[EXEC_MIME_TYPE][\"server_id\"];\n",
       "  }\n",
       "}\n",
       "\n",
       "/**\n",
       " * Handle when an output is cleared or removed\n",
       " */\n",
       "function handle_clear_output(event, handle) {\n",
       "  var id = handle.cell.output_area._hv_plot_id;\n",
       "  var server_id = handle.cell.output_area._bokeh_server_id;\n",
       "  if (((id === undefined) || !(id in PyViz.plot_index)) && (server_id !== undefined)) { return; }\n",
       "  var comm = window.PyViz.comm_manager.get_client_comm(\"hv-extension-comm\", \"hv-extension-comm\", function () {});\n",
       "  if (server_id !== null) {\n",
       "    comm.send({event_type: 'server_delete', 'id': server_id});\n",
       "    return;\n",
       "  } else if (comm !== null) {\n",
       "    comm.send({event_type: 'delete', 'id': id});\n",
       "  }\n",
       "  delete PyViz.plot_index[id];\n",
       "  if ((window.Bokeh !== undefined) & (id in window.Bokeh.index)) {\n",
       "    var doc = window.Bokeh.index[id].model.document\n",
       "    doc.clear();\n",
       "    const i = window.Bokeh.documents.indexOf(doc);\n",
       "    if (i > -1) {\n",
       "      window.Bokeh.documents.splice(i, 1);\n",
       "    }\n",
       "  }\n",
       "}\n",
       "\n",
       "/**\n",
       " * Handle kernel restart event\n",
       " */\n",
       "function handle_kernel_cleanup(event, handle) {\n",
       "  delete PyViz.comms[\"hv-extension-comm\"];\n",
       "  window.PyViz.plot_index = {}\n",
       "}\n",
       "\n",
       "/**\n",
       " * Handle update_display_data messages\n",
       " */\n",
       "function handle_update_output(event, handle) {\n",
       "  handle_clear_output(event, {cell: {output_area: handle.output_area}})\n",
       "  handle_add_output(event, handle)\n",
       "}\n",
       "\n",
       "function register_renderer(events, OutputArea) {\n",
       "  function append_mime(data, metadata, element) {\n",
       "    // create a DOM node to render to\n",
       "    var toinsert = this.create_output_subarea(\n",
       "    metadata,\n",
       "    CLASS_NAME,\n",
       "    EXEC_MIME_TYPE\n",
       "    );\n",
       "    this.keyboard_manager.register_events(toinsert);\n",
       "    // Render to node\n",
       "    var props = {data: data, metadata: metadata[EXEC_MIME_TYPE]};\n",
       "    render(props, toinsert[0]);\n",
       "    element.append(toinsert);\n",
       "    return toinsert\n",
       "  }\n",
       "\n",
       "  events.on('output_added.OutputArea', handle_add_output);\n",
       "  events.on('output_updated.OutputArea', handle_update_output);\n",
       "  events.on('clear_output.CodeCell', handle_clear_output);\n",
       "  events.on('delete.Cell', handle_clear_output);\n",
       "  events.on('kernel_ready.Kernel', handle_kernel_cleanup);\n",
       "\n",
       "  OutputArea.prototype.register_mime_type(EXEC_MIME_TYPE, append_mime, {\n",
       "    safe: true,\n",
       "    index: 0\n",
       "  });\n",
       "}\n",
       "\n",
       "if (window.Jupyter !== undefined) {\n",
       "  try {\n",
       "    var events = require('base/js/events');\n",
       "    var OutputArea = require('notebook/js/outputarea').OutputArea;\n",
       "    if (OutputArea.prototype.mime_types().indexOf(EXEC_MIME_TYPE) == -1) {\n",
       "      register_renderer(events, OutputArea);\n",
       "    }\n",
       "  } catch(err) {\n",
       "  }\n",
       "}\n"
      ],
      "application/vnd.holoviews_load.v0+json": "\nif ((window.PyViz === undefined) || (window.PyViz instanceof HTMLElement)) {\n  window.PyViz = {comms: {}, comm_status:{}, kernels:{}, receivers: {}, plot_index: []}\n}\n\n\n    function JupyterCommManager() {\n    }\n\n    JupyterCommManager.prototype.register_target = function(plot_id, comm_id, msg_handler) {\n      if (window.comm_manager || ((window.Jupyter !== undefined) && (Jupyter.notebook.kernel != null))) {\n        var comm_manager = window.comm_manager || Jupyter.notebook.kernel.comm_manager;\n        comm_manager.register_target(comm_id, function(comm) {\n          comm.on_msg(msg_handler);\n        });\n      } else if ((plot_id in window.PyViz.kernels) && (window.PyViz.kernels[plot_id])) {\n        window.PyViz.kernels[plot_id].registerCommTarget(comm_id, function(comm) {\n          comm.onMsg = msg_handler;\n        });\n      } else if (typeof google != 'undefined' && google.colab.kernel != null) {\n        google.colab.kernel.comms.registerTarget(comm_id, (comm) => {\n          var messages = comm.messages[Symbol.asyncIterator]();\n          function processIteratorResult(result) {\n            var message = result.value;\n            console.log(message)\n            var content = {data: message.data, comm_id};\n            var buffers = []\n            for (var buffer of message.buffers || []) {\n              buffers.push(new DataView(buffer))\n            }\n            var metadata = message.metadata || {};\n            var msg = {content, buffers, metadata}\n            msg_handler(msg);\n            return messages.next().then(processIteratorResult);\n          }\n          return messages.next().then(processIteratorResult);\n        })\n      }\n    }\n\n    JupyterCommManager.prototype.get_client_comm = function(plot_id, comm_id, msg_handler) {\n      if (comm_id in window.PyViz.comms) {\n        return window.PyViz.comms[comm_id];\n      } else if (window.comm_manager || ((window.Jupyter !== undefined) && (Jupyter.notebook.kernel != null))) {\n        var comm_manager = window.comm_manager || Jupyter.notebook.kernel.comm_manager;\n        var comm = comm_manager.new_comm(comm_id, {}, {}, {}, comm_id);\n        if (msg_handler) {\n          comm.on_msg(msg_handler);\n        }\n      } else if ((plot_id in window.PyViz.kernels) && (window.PyViz.kernels[plot_id])) {\n        var comm = window.PyViz.kernels[plot_id].connectToComm(comm_id);\n        comm.open();\n        if (msg_handler) {\n          comm.onMsg = msg_handler;\n        }\n      } else if (typeof google != 'undefined' && google.colab.kernel != null) {\n        var comm_promise = google.colab.kernel.comms.open(comm_id)\n        comm_promise.then((comm) => {\n          window.PyViz.comms[comm_id] = comm;\n          if (msg_handler) {\n            var messages = comm.messages[Symbol.asyncIterator]();\n            function processIteratorResult(result) {\n              var message = result.value;\n              var content = {data: message.data};\n              var metadata = message.metadata || {comm_id};\n              var msg = {content, metadata}\n              msg_handler(msg);\n              return messages.next().then(processIteratorResult);\n            }\n            return messages.next().then(processIteratorResult);\n          }\n        }) \n        var sendClosure = (data, metadata, buffers, disposeOnDone) => {\n          return comm_promise.then((comm) => {\n            comm.send(data, metadata, buffers, disposeOnDone);\n          });\n        };\n        var comm = {\n          send: sendClosure\n        };\n      }\n      window.PyViz.comms[comm_id] = comm;\n      return comm;\n    }\n    window.PyViz.comm_manager = new JupyterCommManager();\n    \n\n\nvar JS_MIME_TYPE = 'application/javascript';\nvar HTML_MIME_TYPE = 'text/html';\nvar EXEC_MIME_TYPE = 'application/vnd.holoviews_exec.v0+json';\nvar CLASS_NAME = 'output';\n\n/**\n * Render data to the DOM node\n */\nfunction render(props, node) {\n  var div = document.createElement(\"div\");\n  var script = document.createElement(\"script\");\n  node.appendChild(div);\n  node.appendChild(script);\n}\n\n/**\n * Handle when a new output is added\n */\nfunction handle_add_output(event, handle) {\n  var output_area = handle.output_area;\n  var output = handle.output;\n  if ((output.data == undefined) || (!output.data.hasOwnProperty(EXEC_MIME_TYPE))) {\n    return\n  }\n  var id = output.metadata[EXEC_MIME_TYPE][\"id\"];\n  var toinsert = output_area.element.find(\".\" + CLASS_NAME.split(' ')[0]);\n  if (id !== undefined) {\n    var nchildren = toinsert.length;\n    var html_node = toinsert[nchildren-1].children[0];\n    html_node.innerHTML = output.data[HTML_MIME_TYPE];\n    var scripts = [];\n    var nodelist = html_node.querySelectorAll(\"script\");\n    for (var i in nodelist) {\n      if (nodelist.hasOwnProperty(i)) {\n        scripts.push(nodelist[i])\n      }\n    }\n\n    scripts.forEach( function (oldScript) {\n      var newScript = document.createElement(\"script\");\n      var attrs = [];\n      var nodemap = oldScript.attributes;\n      for (var j in nodemap) {\n        if (nodemap.hasOwnProperty(j)) {\n          attrs.push(nodemap[j])\n        }\n      }\n      attrs.forEach(function(attr) { newScript.setAttribute(attr.name, attr.value) });\n      newScript.appendChild(document.createTextNode(oldScript.innerHTML));\n      oldScript.parentNode.replaceChild(newScript, oldScript);\n    });\n    if (JS_MIME_TYPE in output.data) {\n      toinsert[nchildren-1].children[1].textContent = output.data[JS_MIME_TYPE];\n    }\n    output_area._hv_plot_id = id;\n    if ((window.Bokeh !== undefined) && (id in Bokeh.index)) {\n      window.PyViz.plot_index[id] = Bokeh.index[id];\n    } else {\n      window.PyViz.plot_index[id] = null;\n    }\n  } else if (output.metadata[EXEC_MIME_TYPE][\"server_id\"] !== undefined) {\n    var bk_div = document.createElement(\"div\");\n    bk_div.innerHTML = output.data[HTML_MIME_TYPE];\n    var script_attrs = bk_div.children[0].attributes;\n    for (var i = 0; i < script_attrs.length; i++) {\n      toinsert[toinsert.length - 1].childNodes[1].setAttribute(script_attrs[i].name, script_attrs[i].value);\n    }\n    // store reference to server id on output_area\n    output_area._bokeh_server_id = output.metadata[EXEC_MIME_TYPE][\"server_id\"];\n  }\n}\n\n/**\n * Handle when an output is cleared or removed\n */\nfunction handle_clear_output(event, handle) {\n  var id = handle.cell.output_area._hv_plot_id;\n  var server_id = handle.cell.output_area._bokeh_server_id;\n  if (((id === undefined) || !(id in PyViz.plot_index)) && (server_id !== undefined)) { return; }\n  var comm = window.PyViz.comm_manager.get_client_comm(\"hv-extension-comm\", \"hv-extension-comm\", function () {});\n  if (server_id !== null) {\n    comm.send({event_type: 'server_delete', 'id': server_id});\n    return;\n  } else if (comm !== null) {\n    comm.send({event_type: 'delete', 'id': id});\n  }\n  delete PyViz.plot_index[id];\n  if ((window.Bokeh !== undefined) & (id in window.Bokeh.index)) {\n    var doc = window.Bokeh.index[id].model.document\n    doc.clear();\n    const i = window.Bokeh.documents.indexOf(doc);\n    if (i > -1) {\n      window.Bokeh.documents.splice(i, 1);\n    }\n  }\n}\n\n/**\n * Handle kernel restart event\n */\nfunction handle_kernel_cleanup(event, handle) {\n  delete PyViz.comms[\"hv-extension-comm\"];\n  window.PyViz.plot_index = {}\n}\n\n/**\n * Handle update_display_data messages\n */\nfunction handle_update_output(event, handle) {\n  handle_clear_output(event, {cell: {output_area: handle.output_area}})\n  handle_add_output(event, handle)\n}\n\nfunction register_renderer(events, OutputArea) {\n  function append_mime(data, metadata, element) {\n    // create a DOM node to render to\n    var toinsert = this.create_output_subarea(\n    metadata,\n    CLASS_NAME,\n    EXEC_MIME_TYPE\n    );\n    this.keyboard_manager.register_events(toinsert);\n    // Render to node\n    var props = {data: data, metadata: metadata[EXEC_MIME_TYPE]};\n    render(props, toinsert[0]);\n    element.append(toinsert);\n    return toinsert\n  }\n\n  events.on('output_added.OutputArea', handle_add_output);\n  events.on('output_updated.OutputArea', handle_update_output);\n  events.on('clear_output.CodeCell', handle_clear_output);\n  events.on('delete.Cell', handle_clear_output);\n  events.on('kernel_ready.Kernel', handle_kernel_cleanup);\n\n  OutputArea.prototype.register_mime_type(EXEC_MIME_TYPE, append_mime, {\n    safe: true,\n    index: 0\n  });\n}\n\nif (window.Jupyter !== undefined) {\n  try {\n    var events = require('base/js/events');\n    var OutputArea = require('notebook/js/outputarea').OutputArea;\n    if (OutputArea.prototype.mime_types().indexOf(EXEC_MIME_TYPE) == -1) {\n      register_renderer(events, OutputArea);\n    }\n  } catch(err) {\n  }\n}\n"
     },
     "metadata": {},
     "output_type": "display_data"
    },
    {
     "data": {
      "text/html": [
       "<style>.bk-root, .bk-root .bk:before, .bk-root .bk:after {\n",
       "  font-family: var(--jp-ui-font-size1);\n",
       "  font-size: var(--jp-ui-font-size1);\n",
       "  color: var(--jp-ui-font-color1);\n",
       "}\n",
       "</style>"
      ]
     },
     "metadata": {},
     "output_type": "display_data"
    }
   ],
   "source": [
    "\n",
    "import pandas as pd\n",
    "import numpy as np\n",
    "\n",
    "import hvplot.pandas\n",
    "import hvplot\n",
    "\n",
    "import matplotlib.pyplot as plt\n",
    "\n",
    "from statsmodels.datasets import co2, get_rdataset\n",
    "from statsmodels.tsa.seasonal import seasonal_decompose\n",
    "\n",
    "from statsmodels.tsa.filters.hp_filter import hpfilter\n"
   ]
  },
  {
   "cell_type": "code",
   "execution_count": 3,
   "id": "82683b1e",
   "metadata": {},
   "outputs": [],
   "source": [
    "\n",
    "import sklearn\n",
    "import statsmodels\n",
    "import statsmodels as sm\n",
    "\n",
    "import warnings\n",
    "\n",
    "from statsmodels.tsa.api import (kpss, adfuller, seasonal_decompose, STL)\n",
    "from statsmodels.tools.eval_measures import rmspe, rmse\n",
    "from statsmodels.graphics.tsaplots import plot_acf, plot_pacf\n",
    "\n",
    "from statsmodels.tsa.statespace.sarimax import SARIMAX\n",
    "from statsmodels.tsa.api import ExponentialSmoothing\n",
    "from statsmodels.tsa.arima.model import ARIMA\n",
    "from statsmodels.stats.diagnostic import acorr_ljungbox\n",
    "from statsmodels.tsa.statespace.sarimax import SARIMAX\n",
    "\n",
    "from sklearn.metrics import mean_absolute_percentage_error as mape\n",
    "\n",
    "from itertools import product\n",
    "\n",
    "from pandas.plotting import autocorrelation_plot\n",
    "\n",
    "warnings.filterwarnings('ignore')\n",
    "\n",
    "plt.rcParams[\"figure.figsize\"] = [12, 5]  \n"
   ]
  },
  {
   "cell_type": "markdown",
   "id": "fec2866c",
   "metadata": {},
   "source": [
    "\n",
    "## CIVS time series data\n"
   ]
  },
  {
   "cell_type": "code",
   "execution_count": null,
   "id": "41e38aef",
   "metadata": {},
   "outputs": [],
   "source": [
    "\n",
    "df_data = pd.read_csv('data/RealSeqData.CIVS.Nov.2023.csv')\n"
   ]
  },
  {
   "cell_type": "code",
   "execution_count": null,
   "id": "6110d138",
   "metadata": {},
   "outputs": [],
   "source": [
    "\n",
    "df_data.head()\n"
   ]
  },
  {
   "cell_type": "code",
   "execution_count": null,
   "id": "f7e280de",
   "metadata": {},
   "outputs": [],
   "source": [
    "\n",
    "ts_data = pd.read_csv(\n",
    "            'data/RealSeqData.CIVS.Nov.2023.csv',\n",
    "            header=0,\n",
    "            parse_dates = ['time'],\n",
    "            index_col=0,\n",
    "            infer_datetime_format=True\n",
    ")\n"
   ]
  },
  {
   "cell_type": "code",
   "execution_count": null,
   "id": "c1cc6680",
   "metadata": {},
   "outputs": [],
   "source": [
    "\n",
    "ts_data.head(5)\n"
   ]
  },
  {
   "cell_type": "code",
   "execution_count": null,
   "id": "110bc261",
   "metadata": {},
   "outputs": [],
   "source": [
    "\n",
    "ts_data.info()\n"
   ]
  },
  {
   "cell_type": "code",
   "execution_count": null,
   "id": "0ff1fca2",
   "metadata": {},
   "outputs": [],
   "source": [
    "\n",
    "ts_data.plot()\n"
   ]
  },
  {
   "cell_type": "code",
   "execution_count": null,
   "id": "085bbead",
   "metadata": {},
   "outputs": [],
   "source": [
    "\n",
    "## ts_data.hvplot()\n"
   ]
  },
  {
   "cell_type": "code",
   "execution_count": null,
   "id": "9c1638d4",
   "metadata": {},
   "outputs": [],
   "source": [
    "\n",
    "ts_data.plot( figsize=(20,80),  subplots=True   )\n"
   ]
  },
  {
   "cell_type": "code",
   "execution_count": null,
   "id": "5a2f610b",
   "metadata": {},
   "outputs": [],
   "source": [
    "\n",
    "## ts_data.hvplot( width=300,  subplots=True   ).cols(3)\n"
   ]
  },
  {
   "cell_type": "code",
   "execution_count": null,
   "id": "4e70614b",
   "metadata": {},
   "outputs": [],
   "source": [
    "\n",
    "## (ts_data['o_SILICON_14'].hvplot(width=400) + ts_data['NAT_GAS_INJECTION'].hvplot(width=400))\n"
   ]
  },
  {
   "cell_type": "markdown",
   "id": "fd426dc2",
   "metadata": {},
   "source": [
    "\n",
    "## Split Time Series Data\n"
   ]
  },
  {
   "cell_type": "code",
   "execution_count": 4,
   "id": "78ab26bc",
   "metadata": {},
   "outputs": [],
   "source": [
    "\n",
    "def split_data(data, test_split):\n",
    "    l = len(data)\n",
    "    t_idx = round(l*(1-test_split))\n",
    "    train, test = data[ : t_idx], data[t_idx : ]\n",
    "    print(f'train: {len(train)} , test: {len(test)}')\n",
    "    return train, test\n"
   ]
  },
  {
   "cell_type": "code",
   "execution_count": 5,
   "id": "81d6129f",
   "metadata": {},
   "outputs": [
    {
     "ename": "NameError",
     "evalue": "name 'ts_data' is not defined",
     "output_type": "error",
     "traceback": [
      "\u001b[0;31m---------------------------------------------------------------------------\u001b[0m",
      "\u001b[0;31mNameError\u001b[0m                                 Traceback (most recent call last)",
      "\u001b[0;32m/var/folders/q4/zdsjyw0d297_fn6_fh5n7g9h0000gn/T/ipykernel_5639/1143570207.py\u001b[0m in \u001b[0;36m<module>\u001b[0;34m\u001b[0m\n\u001b[1;32m      1\u001b[0m \u001b[0mtest_split\u001b[0m \u001b[0;34m=\u001b[0m \u001b[0;36m0.20\u001b[0m\u001b[0;34m\u001b[0m\u001b[0;34m\u001b[0m\u001b[0m\n\u001b[1;32m      2\u001b[0m \u001b[0;34m\u001b[0m\u001b[0m\n\u001b[0;32m----> 3\u001b[0;31m \u001b[0mts_data_train\u001b[0m\u001b[0;34m,\u001b[0m \u001b[0mts_data_test\u001b[0m \u001b[0;34m=\u001b[0m \u001b[0msplit_data\u001b[0m\u001b[0;34m(\u001b[0m\u001b[0mts_data\u001b[0m\u001b[0;34m,\u001b[0m \u001b[0mtest_split\u001b[0m\u001b[0;34m)\u001b[0m\u001b[0;34m\u001b[0m\u001b[0;34m\u001b[0m\u001b[0m\n\u001b[0m\u001b[1;32m      4\u001b[0m \u001b[0;34m\u001b[0m\u001b[0m\n",
      "\u001b[0;31mNameError\u001b[0m: name 'ts_data' is not defined"
     ]
    }
   ],
   "source": [
    "\n",
    "test_split = 0.20\n",
    "\n",
    "ts_data_train, ts_data_test = split_data(ts_data, test_split)\n",
    "\n"
   ]
  },
  {
   "cell_type": "code",
   "execution_count": null,
   "id": "da95af66",
   "metadata": {},
   "outputs": [],
   "source": [
    "\n",
    "ts_data_train.info()\n"
   ]
  },
  {
   "cell_type": "code",
   "execution_count": null,
   "id": "8278558d",
   "metadata": {},
   "outputs": [],
   "source": [
    "\n",
    "ts_data_test.info()\n"
   ]
  },
  {
   "cell_type": "markdown",
   "id": "f2f9c664",
   "metadata": {},
   "source": [
    "\n",
    "## Utility Functions\n"
   ]
  },
  {
   "cell_type": "code",
   "execution_count": 6,
   "id": "abab9e5f",
   "metadata": {},
   "outputs": [],
   "source": [
    "\n",
    "def check_stationarity(df):\n",
    "    \n",
    "    results = adfuller(df)[1:3]\n",
    "    s = 'Non-Stationary'\n",
    "    if results[0] < 0.05:\n",
    "        s = 'Stationary'\n",
    "        \n",
    "    print(f\"'{s}\\t p-value:{results[0]} \\t lags:{results[1]}\")\n",
    "    \n",
    "    return (s, results[0])\n"
   ]
  },
  {
   "cell_type": "code",
   "execution_count": 7,
   "id": "8302e66d",
   "metadata": {},
   "outputs": [],
   "source": [
    "\n",
    "def get_best_model(score, c='AIC'):\n",
    "    \n",
    "    initial_score = score[0][c]\n",
    "    best_model = 0\n",
    "    for k,v in score.items():\n",
    "        if v[c] < initial_score:\n",
    "            initial_score = v[c]\n",
    "            best_model = k\n",
    "            \n",
    "    print(f'Best model: {best_model} with lowest {c} score: {initial_score}')\n",
    "    \n",
    "    return score[best_model]['model']\n"
   ]
  },
  {
   "cell_type": "code",
   "execution_count": 8,
   "id": "7606c012",
   "metadata": {},
   "outputs": [],
   "source": [
    "\n",
    "def plot_forecast(model, start, train, test):\n",
    "    forecast = pd.DataFrame(model.forecast(test.shape[0]), \n",
    "                            index=test.index)\n",
    "    ax = train.loc[start:].plot(style='--')\n",
    "    test.plot(ax=ax)\n",
    "    forecast.plot(ax=ax, style = '-.')\n",
    "    ax.legend(['orig_train', 'orig_test', 'forecast'])\n",
    "    # plt.show()\n",
    "    return ax\n"
   ]
  },
  {
   "cell_type": "code",
   "execution_count": 9,
   "id": "54eb19b6",
   "metadata": {},
   "outputs": [],
   "source": [
    "\n",
    "def combinator(items, r=1):\n",
    "    combo = [i for i in product(*items, repeat=r)]\n",
    "    return combo\n"
   ]
  },
  {
   "cell_type": "markdown",
   "id": "e4073cce",
   "metadata": {},
   "source": [
    "\n",
    "## Blast 14 all data\n"
   ]
  },
  {
   "cell_type": "code",
   "execution_count": null,
   "id": "975d3b07",
   "metadata": {},
   "outputs": [],
   "source": [
    "\n",
    "\n"
   ]
  },
  {
   "cell_type": "code",
   "execution_count": null,
   "id": "ab05d601",
   "metadata": {},
   "outputs": [],
   "source": []
  },
  {
   "cell_type": "code",
   "execution_count": null,
   "id": "82ac8dce",
   "metadata": {},
   "outputs": [],
   "source": []
  },
  {
   "cell_type": "code",
   "execution_count": null,
   "id": "c4fbb926",
   "metadata": {},
   "outputs": [],
   "source": []
  },
  {
   "cell_type": "code",
   "execution_count": null,
   "id": "b8ac1686",
   "metadata": {},
   "outputs": [],
   "source": []
  },
  {
   "cell_type": "code",
   "execution_count": null,
   "id": "9dc04fa1",
   "metadata": {},
   "outputs": [],
   "source": []
  },
  {
   "cell_type": "markdown",
   "id": "24a0b401",
   "metadata": {},
   "source": [
    "\n",
    "## Silicon data only\n"
   ]
  },
  {
   "cell_type": "code",
   "execution_count": 10,
   "id": "85f32507",
   "metadata": {},
   "outputs": [],
   "source": [
    "\n",
    "plt.rcParams[\"figure.figsize\"] = (10, 3)\n"
   ]
  },
  {
   "cell_type": "code",
   "execution_count": 11,
   "id": "6e881886",
   "metadata": {},
   "outputs": [],
   "source": [
    "\n",
    "\n",
    "ts_silicon_data = pd.read_csv(\n",
    "            'data/RealSeqData.CIVS.Nov.2023.csv',\n",
    "            header=0,\n",
    "            parse_dates = ['time'],\n",
    "            index_col=0,\n",
    "            infer_datetime_format=True,\n",
    "            usecols=['time', 'o_SILICON_14']\n",
    ")\n"
   ]
  },
  {
   "cell_type": "code",
   "execution_count": 12,
   "id": "9760059e",
   "metadata": {},
   "outputs": [
    {
     "name": "stdout",
     "output_type": "stream",
     "text": [
      "<class 'pandas.core.frame.DataFrame'>\n",
      "DatetimeIndex: 265020 entries, 2021-08-01 00:00:00 to 2022-01-31 23:59:00\n",
      "Data columns (total 1 columns):\n",
      " #   Column        Non-Null Count   Dtype  \n",
      "---  ------        --------------   -----  \n",
      " 0   o_SILICON_14  265020 non-null  float64\n",
      "dtypes: float64(1)\n",
      "memory usage: 4.0 MB\n"
     ]
    }
   ],
   "source": [
    "\n",
    "ts_silicon_data.info()\n"
   ]
  },
  {
   "cell_type": "code",
   "execution_count": 13,
   "id": "618ec44c",
   "metadata": {},
   "outputs": [
    {
     "data": {
      "text/plain": [
       "<AxesSubplot:xlabel='time'>"
      ]
     },
     "execution_count": 13,
     "metadata": {},
     "output_type": "execute_result"
    },
    {
     "data": {
      "image/png": "[encoded data removed]",
      "text/plain": [
       "<Figure size 1000x300 with 1 Axes>"
      ]
     },
     "metadata": {},
     "output_type": "display_data"
    }
   ],
   "source": [
    "\n",
    "ts_silicon_data.plot()\n"
   ]
  },
  {
   "cell_type": "markdown",
   "id": "280e7006",
   "metadata": {},
   "source": [
    "\n",
    "## Silicon Trend, Seasonality, and residual\n"
   ]
  },
  {
   "cell_type": "code",
   "execution_count": null,
   "id": "e6098b6b",
   "metadata": {},
   "outputs": [],
   "source": [
    "\n",
    "## ts_silicon_data_decomposed = seasonal_decompose(ts_silicon_data, model='multiplicative')\n",
    "\n",
    "silicon_cyclic, silicon_trend = hpfilter(ts_silicon_data)\n"
   ]
  },
  {
   "cell_type": "code",
   "execution_count": null,
   "id": "465818c8",
   "metadata": {},
   "outputs": [],
   "source": [
    "\n",
    "\n",
    "\n",
    "fig, ax = plt.subplots(1,2, figsize=(16, 4))\n",
    "\n",
    "silicon_cyclic.plot(ax=ax[0], title='Silicon Cyclic Component')\n",
    "silicon_trend.plot(ax=ax[1], title='Silicon Trend Component')\n",
    "\n",
    "#fig.savefig('images/fig_9.18.png', bbox_inches='tight')\n",
    "\n"
   ]
  },
  {
   "cell_type": "code",
   "execution_count": null,
   "id": "3105ae42",
   "metadata": {},
   "outputs": [],
   "source": [
    "\n",
    "ts_silicon_data_diff = ts_silicon_data.diff().dropna()\n",
    "ts_silicon_data_diff.plot()\n",
    "\n"
   ]
  },
  {
   "cell_type": "markdown",
   "id": "1d3c7abb",
   "metadata": {},
   "source": [
    "\n",
    "## Silicon Plotting ACF and PACF\n"
   ]
  },
  {
   "cell_type": "code",
   "execution_count": null,
   "id": "05a7f613",
   "metadata": {},
   "outputs": [],
   "source": [
    "\n",
    "# plt.rcParams[\"figure.figsize\"] = [16, 4]\n",
    "\n",
    "## ts_data_train.plot()\n",
    "\n"
   ]
  },
  {
   "cell_type": "code",
   "execution_count": null,
   "id": "f50d7bfc",
   "metadata": {},
   "outputs": [],
   "source": [
    "\n",
    "check_stationarity( ts_silicon_data_diff )\n"
   ]
  },
  {
   "cell_type": "code",
   "execution_count": null,
   "id": "5d54dca5",
   "metadata": {},
   "outputs": [],
   "source": [
    "\n",
    "fig, ax = plt.subplots(2,1, figsize=(12,8))\n",
    "\n",
    "plot_acf( ts_silicon_data_diff, zero=False, ax=ax[0])\n",
    "plot_pacf(ts_silicon_data_diff, zero=False, ax=ax[1])\n",
    "\n",
    "#plt.savefig('images/fig_10.2.png', bbox_inches='tight', dpi=300)\n",
    "\n",
    "plt.show()\n"
   ]
  },
  {
   "cell_type": "code",
   "execution_count": null,
   "id": "17bc1b4b",
   "metadata": {},
   "outputs": [],
   "source": [
    "\n",
    "\n",
    "ts_silicon_data_diff_12 = ts_silicon_data.diff(12).dropna()\n"
   ]
  },
  {
   "cell_type": "code",
   "execution_count": null,
   "id": "262b9f30",
   "metadata": {},
   "outputs": [],
   "source": [
    "\n",
    "check_stationarity(ts_silicon_data_diff_12)\n"
   ]
  },
  {
   "cell_type": "code",
   "execution_count": null,
   "id": "c056689a",
   "metadata": {},
   "outputs": [],
   "source": [
    "\n",
    "ts_silicon_data_diff_12_1 = ts_silicon_data.diff(12).diff(1).dropna()\n",
    "check_stationarity(ts_silicon_data_diff_12_1)\n"
   ]
  },
  {
   "cell_type": "code",
   "execution_count": null,
   "id": "12fc39cb",
   "metadata": {},
   "outputs": [],
   "source": [
    "\n",
    "fig, ax = plt.subplots(2,1, figsize=(12,8))\n",
    "\n",
    "plot_acf( ts_silicon_data_diff_12_1, zero=False, ax=ax[0], lags=36)\n",
    "plot_pacf(ts_silicon_data_diff_12_1, zero=False, ax=ax[1], lags=36)\n",
    "\n",
    "# plt.savefig('images/fig_10.3.png', bbox_inches='tight', dpi=300)\n",
    "plt.show()\n"
   ]
  },
  {
   "cell_type": "markdown",
   "id": "49dd0b08",
   "metadata": {},
   "source": [
    "\n",
    "## Silicon SARIMAX\n"
   ]
  },
  {
   "cell_type": "code",
   "execution_count": null,
   "id": "f25d4883",
   "metadata": {},
   "outputs": [],
   "source": [
    "\n",
    "\n",
    "\n",
    "model = SARIMAX(\n",
    "                 ts_silicon_data, \n",
    "                 order=(0,1,1),\n",
    "                 seasonal_order=(0,1,1, 12) \n",
    ").fit(disp=False)\n",
    "\n",
    "plot_acf(model.resid[1:], zero=False)\n",
    "\n",
    "#plt.savefig('images/fig_10.4.png', bbox_inches='tight', dpi=300)\n",
    "\n",
    "plt.show()\n"
   ]
  },
  {
   "cell_type": "code",
   "execution_count": null,
   "id": "bde25be9",
   "metadata": {},
   "outputs": [],
   "source": [
    "\n",
    "model.resid[1:].plot()\n"
   ]
  },
  {
   "cell_type": "code",
   "execution_count": null,
   "id": "13407b60",
   "metadata": {},
   "outputs": [],
   "source": [
    "\n",
    "model.plot_diagnostics();\n"
   ]
  },
  {
   "cell_type": "code",
   "execution_count": null,
   "id": "1982a0d4",
   "metadata": {},
   "outputs": [],
   "source": [
    "\n",
    "model.resid[1:]\n"
   ]
  },
  {
   "cell_type": "markdown",
   "id": "02ec1cf0",
   "metadata": {},
   "source": [
    "\n",
    "## Silicon Forecasting Univariate Time Series Data with Exponential Smoothing\n"
   ]
  },
  {
   "cell_type": "code",
   "execution_count": null,
   "id": "99c5609d",
   "metadata": {},
   "outputs": [],
   "source": [
    "\n",
    "trend = ['add', 'mul']\n",
    "damped = [True, False]\n",
    "\n",
    "silicon_ex_comb = combinator([trend, damped])\n",
    "\n",
    "silicon_ex_comb\n"
   ]
  },
  {
   "cell_type": "markdown",
   "id": "91d9c3e6",
   "metadata": {},
   "source": [
    "\n",
    "## Split silicon data train test \n"
   ]
  },
  {
   "cell_type": "code",
   "execution_count": 14,
   "id": "f6852d2a",
   "metadata": {},
   "outputs": [
    {
     "name": "stdout",
     "output_type": "stream",
     "text": [
      "train: 212016 , test: 53004\n"
     ]
    }
   ],
   "source": [
    "\n",
    "test_split = 0.20\n",
    "\n",
    "ts_silicon_data_train, ts_silicon_data_test = split_data(ts_silicon_data, test_split)\n",
    "\n"
   ]
  },
  {
   "cell_type": "code",
   "execution_count": null,
   "id": "a63dff01",
   "metadata": {},
   "outputs": [],
   "source": [
    "\n",
    "\n",
    "\n",
    "train_silicon = ts_silicon_data_train.values.ravel()\n",
    "y_silicon     = ts_silicon_data_test.values.ravel()\n",
    "\n",
    "score = {}\n",
    "for i, (t, dp) in enumerate(silicon_ex_comb):\n",
    "    \n",
    "    exp = ExponentialSmoothing(train_silicon, \n",
    "                     trend=t, \n",
    "                     damped_trend=dp,\n",
    "                     seasonal=None)\n",
    "    \n",
    "    model = exp.fit(use_brute=True, optimized=True)    \n",
    "    y_hat = model.forecast( len(y_silicon) )\n",
    "    \n",
    "    score[i] = {'trend':t, \n",
    "                'damped':dp,\n",
    "                'AIC':model.aic,\n",
    "                'BIC':model.bic, \n",
    "                'AICc':model.aicc, \n",
    "                'RMSPE': rmspe(y_silicon, y_hat),\n",
    "                'RMSE' : rmse( y_silicon, y_hat),\n",
    "                'MAPE' : mape( y_silicon, y_hat),\n",
    "                'model': model}\n"
   ]
  },
  {
   "cell_type": "code",
   "execution_count": null,
   "id": "8622aaef",
   "metadata": {},
   "outputs": [],
   "source": [
    "\n",
    "silicon_best_model = get_best_model(score, 'AIC')\n"
   ]
  },
  {
   "cell_type": "code",
   "execution_count": null,
   "id": "6d65ae6b",
   "metadata": {},
   "outputs": [],
   "source": [
    "\n",
    "silicon_best_model.summary()\n"
   ]
  },
  {
   "cell_type": "code",
   "execution_count": null,
   "id": "04b970d5",
   "metadata": {},
   "outputs": [],
   "source": [
    "\n",
    "silicon_best_model.params_formatted\n"
   ]
  },
  {
   "cell_type": "code",
   "execution_count": null,
   "id": "4aa1806f",
   "metadata": {},
   "outputs": [],
   "source": [
    "\n",
    "plot_forecast(silicon_best_model, '2017', ts_silicon_data_train, ts_silicon_data_test)\n",
    "\n",
    "#plt.savefig('images/fig_10.6.png', bbox_inches='tight', dpi=300)\n"
   ]
  },
  {
   "cell_type": "code",
   "execution_count": null,
   "id": "08ebe68c",
   "metadata": {},
   "outputs": [],
   "source": [
    "\n",
    "trend , damped    = ['add', 'mul'], [True, False] \n",
    "seasonal, periods = ['add' , 'mul'], [4, 6, 12]\n",
    "\n",
    "silicon_exp_comb = combinator([trend, damped, seasonal, periods])\n"
   ]
  },
  {
   "cell_type": "code",
   "execution_count": null,
   "id": "99969cc5",
   "metadata": {},
   "outputs": [],
   "source": [
    "\n",
    "len(silicon_exp_comb)\n"
   ]
  },
  {
   "cell_type": "code",
   "execution_count": null,
   "id": "9ab5f32c",
   "metadata": {},
   "outputs": [],
   "source": [
    "\n",
    "train_silicon = ts_silicon_data_train.values.ravel()\n",
    "y_silicon     = ts_silicon_data_test.values.ravel()\n",
    "\n",
    "silicon_model_scores = {}\n",
    "\n",
    "for i, (t, dp, s, sp) in enumerate(silicon_exp_comb):\n",
    "    exp = ExponentialSmoothing(train_silicon, \n",
    "                        trend=t, \n",
    "                        damped_trend=dp,\n",
    "                        seasonal=s,\n",
    "                        seasonal_periods=sp)\n",
    "    \n",
    "    model = exp.fit(use_brute=True, optimized=True)   \n",
    "    \n",
    "    y_hat = model.forecast(len(y_silicon))\n",
    "    silicon_model_scores[i] = {'trend':t,\n",
    "                'damped':dp,\n",
    "                'AIC':model.aic,\n",
    "                'BIC':model.bic, \n",
    "                'AICc': model.aicc,\n",
    "                'RMSPE': rmspe(y_silicon, y_hat),\n",
    "                'RMSE' : rmse( y_silicon, y_hat),\n",
    "                'MAPE' : mape( y_silicon, y_hat),\n",
    "                'model': model}\n"
   ]
  },
  {
   "cell_type": "code",
   "execution_count": null,
   "id": "92f844ef",
   "metadata": {},
   "outputs": [],
   "source": [
    "\n",
    "silicon_model = get_best_model(silicon_model_scores)\n"
   ]
  },
  {
   "cell_type": "code",
   "execution_count": null,
   "id": "848d7bd0",
   "metadata": {},
   "outputs": [],
   "source": [
    "\n",
    "silicon_model.summary()\n"
   ]
  },
  {
   "cell_type": "code",
   "execution_count": null,
   "id": "11b04bdc",
   "metadata": {},
   "outputs": [],
   "source": [
    "\n",
    "plot_forecast(silicon_model, '1969', ts_silicon_data_train, ts_silicon_data_test)\n",
    "# plt.savefig('images/fig_10.8.png', bbox_inches='tight', dpi=300)\n"
   ]
  },
  {
   "cell_type": "markdown",
   "id": "802379fd",
   "metadata": {},
   "source": [
    "\n",
    "## Silicon  Time Series Data with Non-Seasonal ARIMA\n"
   ]
  },
  {
   "cell_type": "code",
   "execution_count": null,
   "id": "4ad36a8c",
   "metadata": {},
   "outputs": [],
   "source": [
    "\n",
    "plt.rcParams[\"figure.figsize\"] = [14, 4] \n"
   ]
  },
  {
   "cell_type": "code",
   "execution_count": null,
   "id": "6194cd32",
   "metadata": {},
   "outputs": [],
   "source": [
    "\n",
    "'''\n",
    "decomposed = seasonal_decompose(ts_silicon_data)\n",
    "decomposed.plot()\n",
    "#plt.savefig('images/fig_10.10.png', bbox_inches='tight', dpi=300)\n",
    "plt.show()\n",
    "\n",
    "'''\n",
    "\n"
   ]
  },
  {
   "cell_type": "code",
   "execution_count": null,
   "id": "d349d85b",
   "metadata": {},
   "outputs": [],
   "source": [
    "\n",
    "plt.rcParams[\"figure.figsize\"] = [14, 6]  \n",
    "\n",
    "decomposed = seasonal_decompose(ts_silicon_data, period=12)\n",
    "decomposed.plot(); plt.show()\n"
   ]
  },
  {
   "cell_type": "code",
   "execution_count": null,
   "id": "747de142",
   "metadata": {},
   "outputs": [],
   "source": [
    "\n",
    "autocorrelation_plot(ts_silicon_data)\n"
   ]
  },
  {
   "cell_type": "code",
   "execution_count": null,
   "id": "d9f0888e",
   "metadata": {},
   "outputs": [],
   "source": [
    "\n",
    "check_stationarity(ts_silicon_data)\n"
   ]
  },
  {
   "cell_type": "code",
   "execution_count": null,
   "id": "b4c53e5d",
   "metadata": {},
   "outputs": [],
   "source": [
    "\n",
    "ts_silicon_data_df1 = ts_silicon_data.diff().dropna()\n",
    "check_stationarity(ts_silicon_data_df1)\n"
   ]
  },
  {
   "cell_type": "code",
   "execution_count": null,
   "id": "58475fc8",
   "metadata": {},
   "outputs": [],
   "source": [
    "\n",
    "ts_silicon_data_df1.plot()\n",
    "#plt.savefig('images/fig_10.11.png', bbox_inches='tight', dpi=300)\n"
   ]
  },
  {
   "cell_type": "code",
   "execution_count": null,
   "id": "7cf4bac5",
   "metadata": {},
   "outputs": [],
   "source": [
    "\n",
    "fig, ax = plt.subplots(1,2)\n",
    "\n",
    "plot_acf( ts_silicon_data_df1, ax=ax[0])\n",
    "plot_pacf(ts_silicon_data_df1, ax=ax[1])\n",
    "#plt.savefig('images/fig_10.12.png', bbox_inches='tight', dpi=300)\n",
    "plt.show()\n"
   ]
  },
  {
   "cell_type": "code",
   "execution_count": null,
   "id": "23a96450",
   "metadata": {},
   "outputs": [],
   "source": [
    "\n",
    "(acorr_ljungbox(ts_silicon_data_df1, \n",
    "                lags=25,\n",
    "                return_df=True) < 0.05)['lb_pvalue'].sum()\n",
    "\n"
   ]
  },
  {
   "cell_type": "code",
   "execution_count": null,
   "id": "35a08fdb",
   "metadata": {},
   "outputs": [],
   "source": [
    "\n",
    "## ts_silicon_data_train, ts_silicon_data_test\n",
    "\n",
    "model = ARIMA(ts_silicon_data_train, order=(0,1,1))\n",
    "results = model.fit()\n",
    "results.summary()\n"
   ]
  },
  {
   "cell_type": "code",
   "execution_count": null,
   "id": "0df42c4c",
   "metadata": {},
   "outputs": [],
   "source": [
    "\n",
    "(acorr_ljungbox(results.resid, \n",
    "                lags=25,\n",
    "                return_df=True) < 0.05)['lb_pvalue'].sum()\n"
   ]
  },
  {
   "cell_type": "code",
   "execution_count": null,
   "id": "f6eca00a",
   "metadata": {},
   "outputs": [],
   "source": [
    "\n",
    "plot_acf(results.resid, zero=False);plt.show()\n"
   ]
  },
  {
   "cell_type": "code",
   "execution_count": null,
   "id": "0a30c55c",
   "metadata": {},
   "outputs": [],
   "source": [
    "\n",
    "results.plot_diagnostics()\n",
    "#plt.savefig('images/fig_10.15.png', bbox_inches='tight', dpi=300)\n",
    "plt.show()\n"
   ]
  },
  {
   "cell_type": "code",
   "execution_count": null,
   "id": "94dc9d65",
   "metadata": {},
   "outputs": [],
   "source": [
    "\n",
    "(acorr_ljungbox(results.resid, \n",
    "                lags=25,\n",
    "                return_df=True) < 0.05)['lb_pvalue'].sum()\n"
   ]
  },
  {
   "cell_type": "code",
   "execution_count": null,
   "id": "661f71ae",
   "metadata": {},
   "outputs": [],
   "source": [
    "\n",
    "from scipy.stats import shapiro\n",
    "shapiro(results.resid)[1] < 0.05\n"
   ]
  },
  {
   "cell_type": "code",
   "execution_count": null,
   "id": "408b7bc4",
   "metadata": {},
   "outputs": [],
   "source": [
    "\n",
    "\n",
    "\n",
    "plot_forecast(results, '1998', ts_silicon_data_train, ts_silicon_data_test)\n"
   ]
  },
  {
   "cell_type": "markdown",
   "id": "dd17b062",
   "metadata": {},
   "source": [
    "\n",
    "## Another try\n"
   ]
  },
  {
   "cell_type": "code",
   "execution_count": null,
   "id": "b7d2eaeb",
   "metadata": {},
   "outputs": [],
   "source": [
    "\n",
    "## ts_silicon_data_train, ts_silicon_data_test\n",
    "\n",
    "pv, dv, qv = [list(range(3))]*3\n",
    "vals = combinator([pv, dv, qv])\n",
    "score = {}\n",
    "\n",
    "for i, (p, d, q) in enumerate(vals):\n",
    "    m = ARIMA(ts_silicon_data_train, order=(p,d,q))\n",
    "    res = m.fit()\n",
    "    \n",
    "    y = ts_silicon_data_test.values.ravel() \n",
    "    y_hat = res.forecast(steps=len(y))\n",
    "    score[i] = {'order': (p,d,q),\n",
    "                'AIC':res.aic, \n",
    "                'BIC': res.bic,\n",
    "                'AICc':res.aicc,\n",
    "                'RMSPE': rmspe(y, y_hat),\n",
    "                'RMSE' : rmse( y, y_hat),\n",
    "                'MAPE' : mape( y, y_hat),\n",
    "                'model': res}\n"
   ]
  },
  {
   "cell_type": "code",
   "execution_count": null,
   "id": "e542dd77",
   "metadata": {},
   "outputs": [],
   "source": [
    "\n",
    "get_best_model(score, 'AIC')\n"
   ]
  },
  {
   "cell_type": "code",
   "execution_count": null,
   "id": "fc0881b9",
   "metadata": {},
   "outputs": [],
   "source": [
    "\n",
    "best_m = get_best_model(score, 'AIC')\n"
   ]
  },
  {
   "cell_type": "code",
   "execution_count": null,
   "id": "706f7039",
   "metadata": {},
   "outputs": [],
   "source": [
    "\n",
    "score[8]\n"
   ]
  },
  {
   "cell_type": "code",
   "execution_count": null,
   "id": "bf29038c",
   "metadata": {},
   "outputs": [],
   "source": [
    "\n",
    "score[4]['model'].model_orders\n"
   ]
  },
  {
   "cell_type": "code",
   "execution_count": null,
   "id": "236cc841",
   "metadata": {},
   "outputs": [],
   "source": [
    "\n",
    "pd.DataFrame(score).T.sort_values(by='AIC').reset_index()\n"
   ]
  },
  {
   "cell_type": "code",
   "execution_count": null,
   "id": "91f9d134",
   "metadata": {},
   "outputs": [],
   "source": [
    "\n",
    "pd.DataFrame(score).T.sort_values(by='BIC').reset_index()\n"
   ]
  },
  {
   "cell_type": "code",
   "execution_count": null,
   "id": "f05c7c72",
   "metadata": {},
   "outputs": [],
   "source": [
    "\n",
    "best_m.summary()\n"
   ]
  },
  {
   "cell_type": "code",
   "execution_count": null,
   "id": "e449d45c",
   "metadata": {},
   "outputs": [],
   "source": [
    "\n",
    "## ts_silicon_data_train, ts_silicon_data_test\n",
    "\n",
    "plot_forecast(best_m, '1998', ts_silicon_data_train,  ts_silicon_data_test)\n"
   ]
  },
  {
   "cell_type": "markdown",
   "id": "587e2e4a",
   "metadata": {},
   "source": [
    "\n",
    "## Silicon  Seasonal ARIMA (SARIMAX)\n"
   ]
  },
  {
   "cell_type": "code",
   "execution_count": null,
   "id": "180a7d01",
   "metadata": {},
   "outputs": [],
   "source": [
    "\n",
    "\n",
    "plt.rcParams[\"figure.figsize\"] = [14, 4]  \n"
   ]
  },
  {
   "cell_type": "code",
   "execution_count": null,
   "id": "76d0819f",
   "metadata": {},
   "outputs": [],
   "source": [
    "\n",
    "ts_silicon_data.plot()\n"
   ]
  },
  {
   "cell_type": "code",
   "execution_count": null,
   "id": "ee856082",
   "metadata": {},
   "outputs": [],
   "source": [
    "\n",
    "plot_acf( ts_silicon_data, lags=40, zero=False)\n",
    "plot_pacf(ts_silicon_data, lags=40, zero=False);plt.show()\n"
   ]
  },
  {
   "cell_type": "code",
   "execution_count": null,
   "id": "ecfbcfb9",
   "metadata": {},
   "outputs": [],
   "source": [
    "\n",
    "plot_acf(ts_silicon_data.diff(1).dropna(), lags=40, zero=False); plt.show()\n"
   ]
  },
  {
   "cell_type": "code",
   "execution_count": null,
   "id": "df636af0",
   "metadata": {},
   "outputs": [],
   "source": [
    "\n",
    "decomposed = seasonal_decompose(ts_silicon_data, period=12, model='multiplicative')\n",
    "decomposed.plot(); plt.show()\n"
   ]
  },
  {
   "cell_type": "code",
   "execution_count": null,
   "id": "50ec090b",
   "metadata": {},
   "outputs": [],
   "source": [
    "\n",
    "silicon_s = decomposed.seasonal\n"
   ]
  },
  {
   "cell_type": "code",
   "execution_count": null,
   "id": "738a65b6",
   "metadata": {},
   "outputs": [],
   "source": [
    "\n",
    "plot_acf(silicon_s, zero=False, lags=40);plt.show()\n"
   ]
  },
  {
   "cell_type": "code",
   "execution_count": null,
   "id": "a43897dd",
   "metadata": {},
   "outputs": [],
   "source": [
    "\n",
    "ts_silicon_data_dif_12   = ts_silicon_data.diff(12).dropna()\n",
    "ts_silicon_data_dif_12_1 = ts_silicon_data.diff(12).diff(1).dropna()\n"
   ]
  },
  {
   "cell_type": "code",
   "execution_count": null,
   "id": "1284a857",
   "metadata": {},
   "outputs": [],
   "source": [
    "\n",
    "sets = [ts_silicon_data, ts_silicon_data_dif_12, ts_silicon_data_dif_12_1]\n",
    "\n",
    "desc = ['Original', 'Deseasonalize', 'Deseasonalize and Detrend']\n",
    "fig, ax = plt.subplots(2,2, figsize=(20,12))\n",
    "\n",
    "index, l = ts_silicon_data.index, ts_silicon_data.shape[0]\n",
    "\n",
    "for i, (d_set, d_desc) in enumerate(zip(sets, desc)):\n",
    "    v, r = i // 2, i % 2\n",
    "    outcome, pval = check_stationarity(d_set)\n",
    "    d_set.plot(ax= ax[v,r], title=f'{d_desc}: {outcome}', legend=False)\n",
    "    pd.Series(d_set.mean().values.tolist()*l, index=index).plot(ax=ax[v,r])\n",
    "    ax[v,r].title.set_size(20)\n",
    "ax[1,1].set_visible(False)\n",
    "# plt.savefig('images/fig_10.21.png', bbox_inches='tight', dpi=300)\n",
    "plt.show()\n"
   ]
  },
  {
   "cell_type": "markdown",
   "id": "91c35852",
   "metadata": {},
   "source": [
    "\n",
    "## How to Determine AR and MA terms\n"
   ]
  },
  {
   "cell_type": "code",
   "execution_count": null,
   "id": "8a7eb38a",
   "metadata": {},
   "outputs": [],
   "source": [
    "\n",
    "fig, ax = plt.subplots(1,2)\n",
    "\n",
    "plot_acf( ts_silicon_data_dif_12_1, zero=False, lags=36, ax=ax[0], title=f'ACF - {d_desc}')\n",
    "plot_pacf(ts_silicon_data_dif_12_1, zero=False, lags=36, ax=ax[1], title=f'PACF - {d_desc}')\n",
    "plt.show()\n"
   ]
  },
  {
   "cell_type": "code",
   "execution_count": null,
   "id": "b26b36a3",
   "metadata": {},
   "outputs": [],
   "source": [
    "\n",
    "#lags = [1, 12, 24, 36, 48]\n",
    "lags = [i for i in range(12, 60, 12)]\n",
    "lags.insert(0, 1)\n",
    "print(lags)\n",
    "\n",
    "plot_acf( ts_silicon_data.diff(12).diff(1).dropna(),zero=False, lags=lags)\n",
    "plot_pacf(ts_silicon_data.diff(12).diff(1).dropna(),zero=False, lags=lags);\n"
   ]
  },
  {
   "cell_type": "code",
   "execution_count": null,
   "id": "11ff6927",
   "metadata": {},
   "outputs": [],
   "source": [
    "\n",
    "## ts_silicon_data_train\n",
    "\n",
    "sarima_model = SARIMAX(ts_silicon_data_train, \n",
    "                       order=(0,1,1),\n",
    "                       seasonal_order=(0,1,1,12))\n",
    "\n",
    "model = sarima_model.fit(disp=0)\n"
   ]
  },
  {
   "cell_type": "code",
   "execution_count": null,
   "id": "a44d1146",
   "metadata": {},
   "outputs": [],
   "source": [
    "\n",
    "model.plot_diagnostics(figsize=(15,10))\n",
    "# plt.savefig('images/fig_10.23.png', bbox_inches='tight', dpi=300)\n",
    "plt.show()\n"
   ]
  },
  {
   "cell_type": "code",
   "execution_count": null,
   "id": "6d0bb037",
   "metadata": {},
   "outputs": [],
   "source": [
    "\n",
    "model.summary()\n"
   ]
  },
  {
   "cell_type": "code",
   "execution_count": null,
   "id": "2da9ee0d",
   "metadata": {},
   "outputs": [],
   "source": [
    "\n",
    "model.resid[1:].plot()\n"
   ]
  },
  {
   "cell_type": "code",
   "execution_count": null,
   "id": "78bc0458",
   "metadata": {},
   "outputs": [],
   "source": [
    "\n",
    "plot_acf( model.resid[1:])\n",
    "plot_pacf(model.resid[1:]); plt.show()\n"
   ]
  },
  {
   "cell_type": "code",
   "execution_count": null,
   "id": "22ef3410",
   "metadata": {},
   "outputs": [],
   "source": [
    "\n",
    "plot_forecast(model, '1971', ts_silicon_data_train, ts_silicon_data_test)\n",
    "# plt.savefig('images/fig_10.24.png', bbox_inches='tight', dpi=300)\n"
   ]
  },
  {
   "cell_type": "code",
   "execution_count": null,
   "id": "6d56c515",
   "metadata": {},
   "outputs": [],
   "source": [
    "\n",
    "n = ts_silicon_data.shape[0]\n",
    "ts_silicon_data_train.plot(style='.-', figsize=(12,4))\n",
    "model.predict(end=n).plot(style='--')\n",
    "plt.legend(['train', 'forecast'])\n"
   ]
  },
  {
   "cell_type": "markdown",
   "id": "88d51947",
   "metadata": {},
   "source": [
    "\n",
    "## SARIMAX silicon With grid search\n"
   ]
  },
  {
   "cell_type": "code",
   "execution_count": null,
   "id": "968dc50d",
   "metadata": {},
   "outputs": [
    {
     "name": "stderr",
     "output_type": "stream",
     "text": [
      " This problem is unconstrained.\n"
     ]
    },
    {
     "name": "stdout",
     "output_type": "stream",
     "text": [
      "RUNNING THE L-BFGS-B CODE\n",
      "\n",
      "           * * *\n",
      "\n",
      "Machine precision = 2.220D-16\n",
      " N =            1     M =           10\n",
      "\n",
      "At X0         0 variables are exactly at the bounds\n",
      "\n",
      "At iterate    0    f=  1.51765D+00    |proj g|=  6.04725D-06\n",
      "\n",
      "           * * *\n",
      "\n",
      "Tit   = total number of iterations\n",
      "Tnf   = total number of function evaluations\n",
      "Tnint = total number of segments explored during Cauchy searches\n",
      "Skip  = number of BFGS updates skipped\n",
      "Nact  = number of active bounds at final generalized Cauchy point\n",
      "Projg = norm of the final projected gradient\n",
      "F     = final function value\n",
      "\n",
      "           * * *\n",
      "\n",
      "   N    Tit     Tnf  Tnint  Skip  Nact     Projg        F\n",
      "    1      0      1      0     0     0   6.047D-06   1.518D+00\n",
      "  F =   1.5176450108395350     \n",
      "\n",
      "CONVERGENCE: NORM_OF_PROJECTED_GRADIENT_<=_PGTOL            \n",
      "RUNNING THE L-BFGS-B CODE\n",
      "\n",
      "           * * *\n",
      "\n",
      "Machine precision = 2.220D-16\n",
      " N =            2     M =           10\n",
      "\n",
      "At X0         0 variables are exactly at the bounds\n",
      "\n",
      "At iterate    0    f=  1.15941D+00    |proj g|=  6.48889D-01\n"
     ]
    },
    {
     "name": "stderr",
     "output_type": "stream",
     "text": [
      " This problem is unconstrained.\n"
     ]
    },
    {
     "name": "stdout",
     "output_type": "stream",
     "text": [
      "\n",
      "At iterate    5    f=  8.86900D-01    |proj g|=  2.37127D-02\n",
      "\n",
      "At iterate   10    f=  8.79721D-01    |proj g|=  6.93971D-04\n",
      "\n",
      "           * * *\n",
      "\n",
      "Tit   = total number of iterations\n",
      "Tnf   = total number of function evaluations\n",
      "Tnint = total number of segments explored during Cauchy searches\n",
      "Skip  = number of BFGS updates skipped\n",
      "Nact  = number of active bounds at final generalized Cauchy point\n",
      "Projg = norm of the final projected gradient\n",
      "F     = final function value\n",
      "\n",
      "           * * *\n",
      "\n",
      "   N    Tit     Tnf  Tnint  Skip  Nact     Projg        F\n",
      "    2     12     17      1     0     0   1.781D-05   8.797D-01\n",
      "  F =  0.87972083544329360     \n",
      "\n",
      "CONVERGENCE: REL_REDUCTION_OF_F_<=_FACTR*EPSMCH             \n"
     ]
    },
    {
     "name": "stderr",
     "output_type": "stream",
     "text": [
      " This problem is unconstrained.\n"
     ]
    },
    {
     "name": "stdout",
     "output_type": "stream",
     "text": [
      "RUNNING THE L-BFGS-B CODE\n",
      "\n",
      "           * * *\n",
      "\n",
      "Machine precision = 2.220D-16\n",
      " N =            1     M =           10\n",
      "\n",
      "At X0         0 variables are exactly at the bounds\n",
      "\n",
      "At iterate    0    f= -1.09496D+00    |proj g|=  7.68483D-04\n",
      "\n",
      "           * * *\n",
      "\n",
      "Tit   = total number of iterations\n",
      "Tnf   = total number of function evaluations\n",
      "Tnint = total number of segments explored during Cauchy searches\n",
      "Skip  = number of BFGS updates skipped\n",
      "Nact  = number of active bounds at final generalized Cauchy point\n",
      "Projg = norm of the final projected gradient\n",
      "F     = final function value\n",
      "\n",
      "           * * *\n",
      "\n",
      "   N    Tit     Tnf  Tnint  Skip  Nact     Projg        F\n",
      "    1      1     13      1     0     0   7.685D-04  -1.095D+00\n",
      "  F =  -1.0949596480862018     \n",
      "\n",
      "CONVERGENCE: REL_REDUCTION_OF_F_<=_FACTR*EPSMCH             \n"
     ]
    },
    {
     "name": "stderr",
     "output_type": "stream",
     "text": [
      "\n",
      " Warning:  more than 10 function and gradient\n",
      "   evaluations in the last line search.  Termination\n",
      "   may possibly be caused by a bad search direction.\n"
     ]
    },
    {
     "name": "stdout",
     "output_type": "stream",
     "text": [
      "RUNNING THE L-BFGS-B CODE\n",
      "\n",
      "           * * *\n",
      "\n",
      "Machine precision = 2.220D-16\n",
      " N =            2     M =           10\n",
      "\n",
      "At X0         0 variables are exactly at the bounds\n",
      "\n",
      "At iterate    0    f= -1.09963D+00    |proj g|=  1.09697D-01\n"
     ]
    },
    {
     "name": "stderr",
     "output_type": "stream",
     "text": [
      " This problem is unconstrained.\n"
     ]
    },
    {
     "name": "stdout",
     "output_type": "stream",
     "text": [
      "\n",
      "At iterate    5    f= -1.09971D+00    |proj g|=  1.41284D-01\n",
      "\n",
      "At iterate   10    f= -1.09984D+00    |proj g|=  1.25905D-04\n",
      "\n",
      "           * * *\n",
      "\n",
      "Tit   = total number of iterations\n",
      "Tnf   = total number of function evaluations\n",
      "Tnint = total number of segments explored during Cauchy searches\n",
      "Skip  = number of BFGS updates skipped\n",
      "Nact  = number of active bounds at final generalized Cauchy point\n",
      "Projg = norm of the final projected gradient\n",
      "F     = final function value\n",
      "\n",
      "           * * *\n",
      "\n",
      "   N    Tit     Tnf  Tnint  Skip  Nact     Projg        F\n",
      "    2     11     15      1     0     0   1.056D-04  -1.100D+00\n",
      "  F =  -1.0998416612373250     \n",
      "\n",
      "CONVERGENCE: REL_REDUCTION_OF_F_<=_FACTR*EPSMCH             \n",
      "RUNNING THE L-BFGS-B CODE\n",
      "\n",
      "           * * *\n",
      "\n",
      "Machine precision = 2.220D-16\n",
      " N =            2     M =           10\n",
      "\n",
      "At X0         0 variables are exactly at the bounds\n",
      "\n",
      "At iterate    0    f= -1.09564D+00    |proj g|=  1.52782D-03\n"
     ]
    },
    {
     "name": "stderr",
     "output_type": "stream",
     "text": [
      " This problem is unconstrained.\n",
      "\n",
      " Warning:  more than 10 function and gradient\n",
      "   evaluations in the last line search.  Termination\n",
      "   may possibly be caused by a bad search direction.\n"
     ]
    },
    {
     "name": "stdout",
     "output_type": "stream",
     "text": [
      "\n",
      "           * * *\n",
      "\n",
      "Tit   = total number of iterations\n",
      "Tnf   = total number of function evaluations\n",
      "Tnint = total number of segments explored during Cauchy searches\n",
      "Skip  = number of BFGS updates skipped\n",
      "Nact  = number of active bounds at final generalized Cauchy point\n",
      "Projg = norm of the final projected gradient\n",
      "F     = final function value\n",
      "\n",
      "           * * *\n",
      "\n",
      "   N    Tit     Tnf  Tnint  Skip  Nact     Projg        F\n",
      "    2      1     16      1     0     0   1.528D-03  -1.096D+00\n",
      "  F =  -1.0956355164948268     \n",
      "\n",
      "CONVERGENCE: REL_REDUCTION_OF_F_<=_FACTR*EPSMCH             \n",
      "RUNNING THE L-BFGS-B CODE\n",
      "\n",
      "           * * *\n",
      "\n",
      "Machine precision = 2.220D-16\n",
      " N =            3     M =           10\n",
      "\n",
      "At X0         0 variables are exactly at the bounds\n",
      "\n",
      "At iterate    0    f= -1.10034D+00    |proj g|=  1.10662D-01\n"
     ]
    },
    {
     "name": "stderr",
     "output_type": "stream",
     "text": [
      " This problem is unconstrained.\n"
     ]
    },
    {
     "name": "stdout",
     "output_type": "stream",
     "text": [
      "\n",
      "At iterate    5    f= -1.10040D+00    |proj g|=  5.47837D-02\n",
      "\n",
      "At iterate   10    f= -1.10046D+00    |proj g|=  1.24842D-03\n",
      "\n",
      "           * * *\n",
      "\n",
      "Tit   = total number of iterations\n",
      "Tnf   = total number of function evaluations\n",
      "Tnint = total number of segments explored during Cauchy searches\n",
      "Skip  = number of BFGS updates skipped\n",
      "Nact  = number of active bounds at final generalized Cauchy point\n",
      "Projg = norm of the final projected gradient\n",
      "F     = final function value\n",
      "\n",
      "           * * *\n",
      "\n",
      "   N    Tit     Tnf  Tnint  Skip  Nact     Projg        F\n",
      "    3     11     14      1     0     0   1.318D-05  -1.100D+00\n",
      "  F =  -1.1004593462038494     \n",
      "\n",
      "CONVERGENCE: REL_REDUCTION_OF_F_<=_FACTR*EPSMCH             \n",
      "RUNNING THE L-BFGS-B CODE\n",
      "\n",
      "           * * *\n",
      "\n",
      "Machine precision = 2.220D-16\n",
      " N =            2     M =           10\n",
      "\n",
      "At X0         0 variables are exactly at the bounds\n",
      "\n",
      "At iterate    0    f= -1.09949D+00    |proj g|=  1.53975D-03\n"
     ]
    },
    {
     "name": "stderr",
     "output_type": "stream",
     "text": [
      " This problem is unconstrained.\n",
      "\n",
      " Warning:  more than 10 function and gradient\n",
      "   evaluations in the last line search.  Termination\n",
      "   may possibly be caused by a bad search direction.\n"
     ]
    },
    {
     "name": "stdout",
     "output_type": "stream",
     "text": [
      "\n",
      "           * * *\n",
      "\n",
      "Tit   = total number of iterations\n",
      "Tnf   = total number of function evaluations\n",
      "Tnint = total number of segments explored during Cauchy searches\n",
      "Skip  = number of BFGS updates skipped\n",
      "Nact  = number of active bounds at final generalized Cauchy point\n",
      "Projg = norm of the final projected gradient\n",
      "F     = final function value\n",
      "\n",
      "           * * *\n",
      "\n",
      "   N    Tit     Tnf  Tnint  Skip  Nact     Projg        F\n",
      "    2      1     16      1     0     0   1.540D-03  -1.099D+00\n",
      "  F =  -1.0994930146882937     \n",
      "\n",
      "CONVERGENCE: REL_REDUCTION_OF_F_<=_FACTR*EPSMCH             \n"
     ]
    },
    {
     "name": "stderr",
     "output_type": "stream",
     "text": [
      " This problem is unconstrained.\n"
     ]
    },
    {
     "name": "stdout",
     "output_type": "stream",
     "text": [
      "RUNNING THE L-BFGS-B CODE\n",
      "\n",
      "           * * *\n",
      "\n",
      "Machine precision = 2.220D-16\n",
      " N =            3     M =           10\n",
      "\n",
      "At X0         0 variables are exactly at the bounds\n",
      "\n",
      "At iterate    0    f= -1.09935D+00    |proj g|=  1.56539D-02\n",
      "\n",
      "At iterate    5    f= -1.09953D+00    |proj g|=  8.08476D-03\n",
      "\n",
      "At iterate   10    f= -1.10054D+00    |proj g|=  1.32519D-02\n",
      "\n",
      "At iterate   15    f= -1.10113D+00    |proj g|=  2.10556D-02\n",
      "\n",
      "At iterate   20    f= -1.10385D+00    |proj g|=  1.02585D-01\n",
      "\n",
      "At iterate   25    f= -1.10627D+00    |proj g|=  6.20527D-02\n",
      "\n",
      "At iterate   30    f= -1.10698D+00    |proj g|=  5.40900D-03\n",
      "\n",
      "           * * *\n",
      "\n",
      "Tit   = total number of iterations\n",
      "Tnf   = total number of function evaluations\n",
      "Tnint = total number of segments explored during Cauchy searches\n",
      "Skip  = number of BFGS updates skipped\n",
      "Nact  = number of active bounds at final generalized Cauchy point\n",
      "Projg = norm of the final projected gradient\n",
      "F     = final function value\n",
      "\n",
      "           * * *\n",
      "\n",
      "   N    Tit     Tnf  Tnint  Skip  Nact     Projg        F\n",
      "    3     33     47      1     0     0   1.571D-05  -1.107D+00\n",
      "  F =  -1.1069875549225130     \n",
      "\n",
      "CONVERGENCE: REL_REDUCTION_OF_F_<=_FACTR*EPSMCH             \n",
      "RUNNING THE L-BFGS-B CODE\n",
      "\n",
      "           * * *\n",
      "\n",
      "Machine precision = 2.220D-16\n",
      " N =            2     M =           10\n",
      "\n",
      "At X0         0 variables are exactly at the bounds\n",
      "\n",
      "At iterate    0    f=  1.51764D+00    |proj g|=  1.00039D+00\n"
     ]
    },
    {
     "name": "stderr",
     "output_type": "stream",
     "text": [
      " This problem is unconstrained.\n"
     ]
    },
    {
     "name": "stdout",
     "output_type": "stream",
     "text": [
      "\n",
      "At iterate    5    f=  8.70997D-01    |proj g|=  5.98675D-02\n",
      "\n",
      "At iterate   10    f=  8.36919D-01    |proj g|=  6.13281D-03\n",
      "\n",
      "At iterate   15    f=  8.36448D-01    |proj g|=  4.89753D-07\n",
      "\n",
      "           * * *\n",
      "\n",
      "Tit   = total number of iterations\n",
      "Tnf   = total number of function evaluations\n",
      "Tnint = total number of segments explored during Cauchy searches\n",
      "Skip  = number of BFGS updates skipped\n",
      "Nact  = number of active bounds at final generalized Cauchy point\n",
      "Projg = norm of the final projected gradient\n",
      "F     = final function value\n",
      "\n",
      "           * * *\n",
      "\n",
      "   N    Tit     Tnf  Tnint  Skip  Nact     Projg        F\n",
      "    2     15     18      1     0     0   4.898D-07   8.364D-01\n",
      "  F =  0.83644819360368139     \n",
      "\n",
      "CONVERGENCE: NORM_OF_PROJECTED_GRADIENT_<=_PGTOL            \n"
     ]
    },
    {
     "name": "stderr",
     "output_type": "stream",
     "text": [
      " This problem is unconstrained.\n"
     ]
    },
    {
     "name": "stdout",
     "output_type": "stream",
     "text": [
      "RUNNING THE L-BFGS-B CODE\n",
      "\n",
      "           * * *\n",
      "\n",
      "Machine precision = 2.220D-16\n",
      " N =            3     M =           10\n",
      "\n",
      "At X0         0 variables are exactly at the bounds\n",
      "\n",
      "At iterate    0    f=  1.15927D+00    |proj g|=  6.48910D-01\n",
      "\n",
      "At iterate    5    f=  2.85416D-01    |proj g|=  8.39199D-02\n",
      "\n",
      "At iterate   10    f=  2.16215D-01    |proj g|=  2.73087D-02\n",
      "\n",
      "At iterate   15    f=  2.12782D-01    |proj g|=  1.74334D-02\n",
      "\n",
      "           * * *\n",
      "\n",
      "Tit   = total number of iterations\n",
      "Tnf   = total number of function evaluations\n",
      "Tnint = total number of segments explored during Cauchy searches\n",
      "Skip  = number of BFGS updates skipped\n",
      "Nact  = number of active bounds at final generalized Cauchy point\n",
      "Projg = norm of the final projected gradient\n",
      "F     = final function value\n",
      "\n",
      "           * * *\n",
      "\n",
      "   N    Tit     Tnf  Tnint  Skip  Nact     Projg        F\n",
      "    3     19     26      1     0     0   9.029D-07   2.126D-01\n",
      "  F =  0.21263817230750268     \n",
      "\n",
      "CONVERGENCE: NORM_OF_PROJECTED_GRADIENT_<=_PGTOL            \n",
      "RUNNING THE L-BFGS-B CODE\n",
      "\n",
      "           * * *\n",
      "\n",
      "Machine precision = 2.220D-16\n",
      " N =            2     M =           10\n",
      "\n",
      "At X0         0 variables are exactly at the bounds\n",
      "\n",
      "At iterate    0    f= -1.07970D+00    |proj g|=  3.72182D+00\n"
     ]
    },
    {
     "name": "stderr",
     "output_type": "stream",
     "text": [
      " This problem is unconstrained.\n"
     ]
    },
    {
     "name": "stdout",
     "output_type": "stream",
     "text": [
      "\n",
      "At iterate    5    f= -1.54862D+00    |proj g|=  2.24473D+00\n",
      "\n",
      "At iterate   10    f= -1.57118D+00    |proj g|=  2.04752D-02\n",
      "\n",
      "           * * *\n",
      "\n",
      "Tit   = total number of iterations\n",
      "Tnf   = total number of function evaluations\n",
      "Tnint = total number of segments explored during Cauchy searches\n",
      "Skip  = number of BFGS updates skipped\n",
      "Nact  = number of active bounds at final generalized Cauchy point\n",
      "Projg = norm of the final projected gradient\n",
      "F     = final function value\n",
      "\n",
      "           * * *\n",
      "\n",
      "   N    Tit     Tnf  Tnint  Skip  Nact     Projg        F\n",
      "    2     12     27      1     0     0   2.456D-03  -1.571D+00\n",
      "  F =  -1.5711845493294725     \n",
      "\n",
      "CONVERGENCE: REL_REDUCTION_OF_F_<=_FACTR*EPSMCH             \n",
      "RUNNING THE L-BFGS-B CODE\n",
      "\n",
      "           * * *\n",
      "\n",
      "Machine precision = 2.220D-16\n",
      " N =            3     M =           10\n",
      "\n",
      "At X0         0 variables are exactly at the bounds\n",
      "\n",
      "At iterate    0    f= -1.08563D+00    |proj g|=  3.55437D+00\n"
     ]
    },
    {
     "name": "stderr",
     "output_type": "stream",
     "text": [
      " This problem is unconstrained.\n"
     ]
    },
    {
     "name": "stdout",
     "output_type": "stream",
     "text": [
      "\n",
      "At iterate    5    f= -1.56308D+00    |proj g|=  1.05499D+00\n",
      "\n",
      "At iterate   10    f= -1.58648D+00    |proj g|=  7.17127D-02\n",
      "\n",
      "At iterate   15    f= -1.58947D+00    |proj g|=  3.23541D-03\n",
      "\n",
      "           * * *\n",
      "\n",
      "Tit   = total number of iterations\n",
      "Tnf   = total number of function evaluations\n",
      "Tnint = total number of segments explored during Cauchy searches\n",
      "Skip  = number of BFGS updates skipped\n",
      "Nact  = number of active bounds at final generalized Cauchy point\n",
      "Projg = norm of the final projected gradient\n",
      "F     = final function value\n",
      "\n",
      "           * * *\n",
      "\n",
      "   N    Tit     Tnf  Tnint  Skip  Nact     Projg        F\n",
      "    3     18     25      1     0     0   1.977D-06  -1.589D+00\n",
      "  F =  -1.5894710453226026     \n",
      "\n",
      "CONVERGENCE: NORM_OF_PROJECTED_GRADIENT_<=_PGTOL            \n"
     ]
    },
    {
     "name": "stderr",
     "output_type": "stream",
     "text": [
      " This problem is unconstrained.\n"
     ]
    },
    {
     "name": "stdout",
     "output_type": "stream",
     "text": [
      "RUNNING THE L-BFGS-B CODE\n",
      "\n",
      "           * * *\n",
      "\n",
      "Machine precision = 2.220D-16\n",
      " N =            3     M =           10\n",
      "\n",
      "At X0         0 variables are exactly at the bounds\n",
      "\n",
      "At iterate    0    f=  1.01995D+00    |proj g|=  9.01376D-01\n",
      "  ys=-3.098E+00  -gs= 1.059E+00 BFGS update SKIPPED\n",
      "\n",
      "At iterate    5    f= -1.20527D+00    |proj g|=  6.70976D+00\n",
      "\n",
      "At iterate   10    f= -1.56799D+00    |proj g|=  1.10052D+00\n",
      "\n",
      "At iterate   15    f= -1.57208D+00    |proj g|=  2.19763D-03\n",
      "\n",
      "           * * *\n",
      "\n",
      "Tit   = total number of iterations\n",
      "Tnf   = total number of function evaluations\n",
      "Tnint = total number of segments explored during Cauchy searches\n",
      "Skip  = number of BFGS updates skipped\n",
      "Nact  = number of active bounds at final generalized Cauchy point\n",
      "Projg = norm of the final projected gradient\n",
      "F     = final function value\n",
      "\n",
      "           * * *\n",
      "\n",
      "   N    Tit     Tnf  Tnint  Skip  Nact     Projg        F\n",
      "    3     17     30      2     1     0   5.920D-05  -1.572D+00\n",
      "  F =  -1.5720827321143664     \n",
      "\n",
      "CONVERGENCE: REL_REDUCTION_OF_F_<=_FACTR*EPSMCH             \n",
      "RUNNING THE L-BFGS-B CODE\n",
      "\n",
      "           * * *\n",
      "\n",
      "Machine precision = 2.220D-16\n",
      " N =            4     M =           10\n",
      "\n",
      "At X0         0 variables are exactly at the bounds\n",
      "\n",
      "At iterate    0    f=  1.01992D+00    |proj g|=  9.01413D-01\n"
     ]
    },
    {
     "name": "stderr",
     "output_type": "stream",
     "text": [
      " This problem is unconstrained.\n"
     ]
    },
    {
     "name": "stdout",
     "output_type": "stream",
     "text": [
      "  ys=-1.897E+00  -gs= 1.061E+00 BFGS update SKIPPED\n",
      "\n",
      "At iterate    5    f= -1.13746D+00    |proj g|=  2.63366D+00\n",
      "\n",
      "At iterate   10    f= -1.57357D+00    |proj g|=  2.97726D-01\n",
      "\n",
      "At iterate   15    f= -1.58741D+00    |proj g|=  6.79344D-02\n",
      "\n",
      "At iterate   20    f= -1.59006D+00    |proj g|=  1.06976D-02\n"
     ]
    }
   ],
   "source": [
    "\n",
    "\n",
    "P_ns, D_ns, Q_ns = [list(range(3))]*3\n",
    "P_s,  D_s,  Q_s  = [list(range(2))]*3\n",
    "\n",
    "vals = combinator([P_ns, D_ns, Q_ns, P_s, D_s, Q_s])\n",
    "score = {}\n",
    "\n",
    "for i, (p, d, q, P, D, Q) in enumerate(vals):\n",
    " \n",
    "    m = SARIMAX(ts_silicon_data_train, \n",
    "                order=(p,d,q),\n",
    "                seasonal_order=(P, D, Q, 12),\n",
    "                enforce_stationarity=False)\n",
    "    \n",
    "    res = m.fit()\n",
    "    \n",
    "    y = ts_silicon_data_test.values.ravel() \n",
    "    y_hat = res.forecast(steps=len(y))\n",
    "    \n",
    "    score[i] = {'non-seasonal order': (p,d,q),\n",
    "                'seasonal order': (P, D, Q),\n",
    "                'AIC':res.aic, \n",
    "                'AICc': res.aicc,\n",
    "                'BIC': res.bic,\n",
    "                'RMSPE': rmspe(y, y_hat),\n",
    "                'RMSE' : rmse(y, y_hat),\n",
    "                'MAPE' : mape(y, y_hat),\n",
    "                'model': res}\n",
    "    \n",
    "    \n",
    "\n"
   ]
  },
  {
   "cell_type": "code",
   "execution_count": null,
   "id": "9b5afaaa",
   "metadata": {},
   "outputs": [],
   "source": [
    "\n",
    "best_model = get_best_model(score, 'AIC')\n"
   ]
  },
  {
   "cell_type": "code",
   "execution_count": null,
   "id": "84fa8108",
   "metadata": {},
   "outputs": [],
   "source": [
    "\n",
    "results = pd.DataFrame(score).T.sort_values(by='AIC').reset_index()\n",
    "results.head(20)\n"
   ]
  },
  {
   "cell_type": "code",
   "execution_count": null,
   "id": "74580990",
   "metadata": {},
   "outputs": [],
   "source": [
    "\n",
    "results = pd.DataFrame(score).T.sort_values(by='BIC').reset_index()\n",
    "results.head(20)\n"
   ]
  },
  {
   "cell_type": "code",
   "execution_count": null,
   "id": "e42e886e",
   "metadata": {},
   "outputs": [],
   "source": [
    "\n",
    "score[211]\n"
   ]
  },
  {
   "cell_type": "code",
   "execution_count": null,
   "id": "52ca9bc0",
   "metadata": {},
   "outputs": [],
   "source": [
    "\n",
    "plot_forecast(best_model, '1971', ts_silicon_data_train, ts_silicon_data_test)\n",
    "# plt.savefig('images/fig_10.25.png', bbox_inches='tight', dpi=300)\n"
   ]
  },
  {
   "cell_type": "code",
   "execution_count": null,
   "id": "8ff6371f",
   "metadata": {},
   "outputs": [],
   "source": [
    "\n",
    "\n"
   ]
  },
  {
   "cell_type": "code",
   "execution_count": null,
   "id": "da2c8d2a",
   "metadata": {},
   "outputs": [],
   "source": []
  },
  {
   "cell_type": "code",
   "execution_count": null,
   "id": "31ca32b8",
   "metadata": {},
   "outputs": [],
   "source": []
  },
  {
   "cell_type": "code",
   "execution_count": null,
   "id": "ee640629",
   "metadata": {},
   "outputs": [],
   "source": []
  },
  {
   "cell_type": "code",
   "execution_count": null,
   "id": "c10bcc29",
   "metadata": {},
   "outputs": [],
   "source": []
  },
  {
   "cell_type": "code",
   "execution_count": null,
   "id": "5ab40e30",
   "metadata": {},
   "outputs": [],
   "source": []
  },
  {
   "cell_type": "code",
   "execution_count": null,
   "id": "5f3fd28f",
   "metadata": {},
   "outputs": [],
   "source": []
  },
  {
   "cell_type": "code",
   "execution_count": null,
   "id": "aaea30bf",
   "metadata": {},
   "outputs": [],
   "source": []
  },
  {
   "cell_type": "code",
   "execution_count": null,
   "id": "95aa13a0",
   "metadata": {},
   "outputs": [],
   "source": []
  },
  {
   "cell_type": "markdown",
   "id": "9ffaf1d6",
   "metadata": {},
   "source": [
    "\n",
    "## CO2 book example\n"
   ]
  },
  {
   "cell_type": "code",
   "execution_count": null,
   "id": "8a8be024",
   "metadata": {},
   "outputs": [],
   "source": [
    "\n",
    "co2_df = co2.load_pandas().data\n",
    "co2_df = co2_df.ffill()\n"
   ]
  },
  {
   "cell_type": "code",
   "execution_count": null,
   "id": "cb6ca3cf",
   "metadata": {},
   "outputs": [],
   "source": [
    "\n",
    "co2_df.plot()\n"
   ]
  },
  {
   "cell_type": "code",
   "execution_count": null,
   "id": "ab8bf274",
   "metadata": {},
   "outputs": [],
   "source": [
    "\n",
    "## co2_df.hvplot()\n"
   ]
  },
  {
   "cell_type": "code",
   "execution_count": null,
   "id": "dd432292",
   "metadata": {},
   "outputs": [],
   "source": [
    "\n",
    "co2_decomposed = seasonal_decompose(co2_df, model='additive')\n"
   ]
  },
  {
   "cell_type": "code",
   "execution_count": null,
   "id": "6c24089e",
   "metadata": {},
   "outputs": [],
   "source": [
    "\n",
    "co2_decomposed.plot(); plt.show()\n"
   ]
  },
  {
   "cell_type": "code",
   "execution_count": null,
   "id": "c0e62cc1",
   "metadata": {},
   "outputs": [],
   "source": [
    "\n",
    "co2_cyclic, co2_trend = hpfilter(co2_df)\n"
   ]
  },
  {
   "cell_type": "code",
   "execution_count": null,
   "id": "75e16bfc",
   "metadata": {},
   "outputs": [],
   "source": [
    "\n",
    "fig, ax = plt.subplots(1,2, figsize=(16, 4))\n",
    "\n",
    "co2_cyclic.plot(ax=ax[0], title='CO2 Cyclic Component')\n",
    "co2_trend.plot(ax=ax[1],  title='CO2 Trend Component')\n",
    "\n",
    "#fig.savefig('images/fig_9.18.png', bbox_inches='tight')\n"
   ]
  },
  {
   "cell_type": "code",
   "execution_count": null,
   "id": "dde98f4c",
   "metadata": {},
   "outputs": [],
   "source": []
  },
  {
   "cell_type": "code",
   "execution_count": null,
   "id": "7b7d895d",
   "metadata": {},
   "outputs": [],
   "source": []
  },
  {
   "cell_type": "code",
   "execution_count": null,
   "id": "05d0c28e",
   "metadata": {},
   "outputs": [],
   "source": []
  },
  {
   "cell_type": "markdown",
   "id": "1492a795",
   "metadata": {},
   "source": [
    "\n",
    "## Air passengers example\n"
   ]
  },
  {
   "cell_type": "code",
   "execution_count": null,
   "id": "69123b17",
   "metadata": {},
   "outputs": [],
   "source": [
    "\n",
    "air_passengers = get_rdataset(\"AirPassengers\")\n",
    "airp_df = air_passengers.data\n",
    "airp_df.index = pd.date_range('1949', '1961', freq='M')\n",
    "airp_df.drop(columns=['time'], inplace=True)\n"
   ]
  },
  {
   "cell_type": "code",
   "execution_count": null,
   "id": "d5ff711f",
   "metadata": {},
   "outputs": [],
   "source": [
    "\n",
    "airp_df.plot()\n"
   ]
  },
  {
   "cell_type": "code",
   "execution_count": null,
   "id": "c8578506",
   "metadata": {},
   "outputs": [],
   "source": [
    "\n",
    "## airp_df.hvplot()\n"
   ]
  },
  {
   "cell_type": "code",
   "execution_count": null,
   "id": "dbbee3ef",
   "metadata": {},
   "outputs": [],
   "source": [
    "\n",
    "airp_df['value'].plot()\n"
   ]
  },
  {
   "cell_type": "code",
   "execution_count": null,
   "id": "4297abab",
   "metadata": {},
   "outputs": [],
   "source": [
    "\n",
    "airp_df_decomposed = seasonal_decompose(airp_df, model='multiplicative')\n"
   ]
  },
  {
   "cell_type": "code",
   "execution_count": null,
   "id": "80107030",
   "metadata": {},
   "outputs": [],
   "source": [
    "\n",
    "airp_df_decomposed.plot(); plt.show()\n"
   ]
  },
  {
   "cell_type": "code",
   "execution_count": null,
   "id": "6da24a77",
   "metadata": {},
   "outputs": [],
   "source": []
  },
  {
   "cell_type": "code",
   "execution_count": null,
   "id": "fc635f71",
   "metadata": {},
   "outputs": [],
   "source": []
  },
  {
   "cell_type": "code",
   "execution_count": null,
   "id": "e11b5b58",
   "metadata": {},
   "outputs": [],
   "source": []
  },
  {
   "cell_type": "code",
   "execution_count": null,
   "id": "fa82bce9",
   "metadata": {},
   "outputs": [],
   "source": []
  },
  {
   "cell_type": "code",
   "execution_count": null,
   "id": "3ff884a1",
   "metadata": {},
   "outputs": [],
   "source": []
  },
  {
   "cell_type": "code",
   "execution_count": null,
   "id": "2a1bfb40",
   "metadata": {},
   "outputs": [],
   "source": []
  },
  {
   "cell_type": "code",
   "execution_count": null,
   "id": "d08be622",
   "metadata": {},
   "outputs": [],
   "source": []
  },
  {
   "cell_type": "code",
   "execution_count": null,
   "id": "22d90c68",
   "metadata": {},
   "outputs": [],
   "source": []
  },
  {
   "cell_type": "code",
   "execution_count": null,
   "id": "98c8e8e4",
   "metadata": {},
   "outputs": [],
   "source": []
  },
  {
   "cell_type": "code",
   "execution_count": null,
   "id": "8a4b8820",
   "metadata": {},
   "outputs": [],
   "source": []
  },
  {
   "cell_type": "code",
   "execution_count": null,
   "id": "9342614b",
   "metadata": {},
   "outputs": [],
   "source": []
  },
  {
   "cell_type": "code",
   "execution_count": null,
   "id": "52bc7424",
   "metadata": {},
   "outputs": [],
   "source": []
  },
  {
   "cell_type": "code",
   "execution_count": null,
   "id": "dacdba9b",
   "metadata": {},
   "outputs": [],
   "source": []
  },
  {
   "cell_type": "code",
   "execution_count": null,
   "id": "33bb5758",
   "metadata": {},
   "outputs": [],
   "source": []
  }
 ],
 "metadata": {
  "kernelspec": {
   "display_name": "Python 3 (ipykernel)",
   "language": "python",
   "name": "python3"
  },
  "language_info": {
   "codemirror_mode": {
    "name": "ipython",
    "version": 3
   },
   "file_extension": ".py",
   "mimetype": "text/x-python",
   "name": "python",
   "nbconvert_exporter": "python",
   "pygments_lexer": "ipython3",
   "version": "3.7.16"
  }
 },
 "nbformat": 4,
 "nbformat_minor": 5
}
