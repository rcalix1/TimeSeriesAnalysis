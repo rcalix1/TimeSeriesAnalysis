{
 "cells": [
  {
   "cell_type": "markdown",
   "id": "eda6fd4b-3b4d-4ef7-b84f-d1484c248c4f",
   "metadata": {},
   "source": [
    "\n",
    "## Multi-Input Time Series and ensembles\n"
   ]
  },
  {
   "cell_type": "code",
   "execution_count": 1,
   "id": "cf9ed17c-cb7e-4821-837f-19d112ebed8e",
   "metadata": {},
   "outputs": [],
   "source": [
    "\n",
    "from sktime.forecasting.compose import EnsembleForecaster\n",
    "from sklearn.svm import SVR\n",
    "from sktime.transformations.series.detrend import ConditionalDeseasonalizer\n",
    "from sktime.datasets import load_macroeconomic\n"
   ]
  },
  {
   "cell_type": "code",
   "execution_count": 2,
   "id": "c0666796-28c4-4aa2-916b-cb283bee9553",
   "metadata": {},
   "outputs": [],
   "source": [
    "\n",
    "import numpy as np\n",
    "import pandas as pd\n",
    "import matplotlib.pyplot as plt\n",
    "\n",
    "\n",
    "\n",
    "import warnings\n",
    "## warnings.filterwarnings('ignore')\n",
    "from statsmodels.tsa.api import seasonal_decompose, adfuller\n"
   ]
  },
  {
   "cell_type": "code",
   "execution_count": 3,
   "id": "c898170c-d62a-4780-be31-1fcf8c088777",
   "metadata": {},
   "outputs": [],
   "source": [
    "\n",
    "import sktime\n",
    "import statsmodels as sm\n",
    "import matplotlib \n",
    "import sklearn\n",
    "\n",
    "from sklearn.linear_model import( LinearRegression, \n",
    "                                 ElasticNet, \n",
    "                                 Ridge, \n",
    "                                 Lasso, \n",
    "                                 HuberRegressor)\n",
    "\n",
    "\n",
    "from sktime.performance_metrics.forecasting import(MeanAbsolutePercentageError, \n",
    "                                                   MeanSquaredError, \n",
    "                                                   MeanAbsoluteScaledError)\n",
    "\n",
    "from statsmodels.graphics.tsaplots import plot_acf\n"
   ]
  },
  {
   "cell_type": "code",
   "execution_count": 4,
   "id": "b68ede37-357a-4aab-9140-a01ee15b2e49",
   "metadata": {},
   "outputs": [],
   "source": [
    "\n",
    "from sklearn.ensemble import (RandomForestRegressor, \n",
    "                              GradientBoostingRegressor, \n",
    "                              ExtraTreesRegressor)\n",
    "\n",
    "\n",
    "from sklearn.linear_model import LinearRegression\n",
    "from sklearn.neighbors import KNeighborsRegressor\n"
   ]
  },
  {
   "cell_type": "code",
   "execution_count": 5,
   "id": "2ed1060a-2b60-4e31-bf4b-ca3a706eb1b5",
   "metadata": {},
   "outputs": [],
   "source": [
    "\n",
    "from sktime.transformations.series.detrend import Deseasonalizer\n",
    "from sktime.forecasting.base import ForecastingHorizon\n",
    "from sktime.performance_metrics.forecasting import MeanAbsolutePercentageError as mape\n",
    "from sktime.forecasting.naive import NaiveForecaster\n",
    "from sktime.forecasting.model_selection import temporal_train_test_split\n",
    "\n",
    "from sktime.transformations.series.detrend import Detrender\n",
    "from sktime.forecasting.trend import PolynomialTrendForecaster\n",
    "from sktime.forecasting.compose import TransformedTargetForecaster\n",
    "from sktime.performance_metrics.forecasting import mean_squared_percentage_error as mspe\n",
    "from sktime.performance_metrics.forecasting import mean_squared_error as mse\n",
    "from sktime.performance_metrics.forecasting import mean_absolute_scaled_error as  mase \n"
   ]
  },
  {
   "cell_type": "code",
   "execution_count": 6,
   "id": "64477b5e-6d5d-4a5e-8108-8079f344c064",
   "metadata": {},
   "outputs": [],
   "source": [
    "\n",
    "from sktime.forecasting.compose import make_reduction\n"
   ]
  },
  {
   "cell_type": "code",
   "execution_count": 7,
   "id": "fb420b87-6712-49ae-bc9e-a8d53170a5ee",
   "metadata": {},
   "outputs": [],
   "source": [
    "\n",
    "from sktime.forecasting.model_selection import ForecastingGridSearchCV\n",
    "from sktime.split import                  SlidingWindowSplitter\n",
    "from sktime.performance_metrics.forecasting import MeanAbsolutePercentageError\n"
   ]
  },
  {
   "cell_type": "code",
   "execution_count": 8,
   "id": "10bc4d06-c8c3-4d42-8e25-15aa976f50e0",
   "metadata": {},
   "outputs": [
    {
     "data": {
      "text/plain": [
       "(203, 12)"
      ]
     },
     "execution_count": 8,
     "metadata": {},
     "output_type": "execute_result"
    }
   ],
   "source": [
    "\n",
    "load_macroeconomic().shape\n"
   ]
  },
  {
   "cell_type": "code",
   "execution_count": 12,
   "id": "830ee99d-977d-4a35-8c40-1801de941cf0",
   "metadata": {},
   "outputs": [
    {
     "data": {
      "text/html": [
       "<div>\n",
       "<style scoped>\n",
       "    .dataframe tbody tr th:only-of-type {\n",
       "        vertical-align: middle;\n",
       "    }\n",
       "\n",
       "    .dataframe tbody tr th {\n",
       "        vertical-align: top;\n",
       "    }\n",
       "\n",
       "    .dataframe thead th {\n",
       "        text-align: right;\n",
       "    }\n",
       "</style>\n",
       "<table border=\"1\" class=\"dataframe\">\n",
       "  <thead>\n",
       "    <tr style=\"text-align: right;\">\n",
       "      <th></th>\n",
       "      <th>realgdp</th>\n",
       "      <th>realcons</th>\n",
       "      <th>realinv</th>\n",
       "      <th>realgovt</th>\n",
       "      <th>realdpi</th>\n",
       "      <th>cpi</th>\n",
       "      <th>m1</th>\n",
       "      <th>tbilrate</th>\n",
       "      <th>unemp</th>\n",
       "      <th>pop</th>\n",
       "      <th>infl</th>\n",
       "      <th>realint</th>\n",
       "    </tr>\n",
       "    <tr>\n",
       "      <th>Period</th>\n",
       "      <th></th>\n",
       "      <th></th>\n",
       "      <th></th>\n",
       "      <th></th>\n",
       "      <th></th>\n",
       "      <th></th>\n",
       "      <th></th>\n",
       "      <th></th>\n",
       "      <th></th>\n",
       "      <th></th>\n",
       "      <th></th>\n",
       "      <th></th>\n",
       "    </tr>\n",
       "  </thead>\n",
       "  <tbody>\n",
       "    <tr>\n",
       "      <th>1959Q1</th>\n",
       "      <td>2710.349</td>\n",
       "      <td>1707.4</td>\n",
       "      <td>286.898</td>\n",
       "      <td>470.045</td>\n",
       "      <td>1886.9</td>\n",
       "      <td>28.980</td>\n",
       "      <td>139.7</td>\n",
       "      <td>2.82</td>\n",
       "      <td>5.8</td>\n",
       "      <td>177.146</td>\n",
       "      <td>0.00</td>\n",
       "      <td>0.00</td>\n",
       "    </tr>\n",
       "    <tr>\n",
       "      <th>1959Q2</th>\n",
       "      <td>2778.801</td>\n",
       "      <td>1733.7</td>\n",
       "      <td>310.859</td>\n",
       "      <td>481.301</td>\n",
       "      <td>1919.7</td>\n",
       "      <td>29.150</td>\n",
       "      <td>141.7</td>\n",
       "      <td>3.08</td>\n",
       "      <td>5.1</td>\n",
       "      <td>177.830</td>\n",
       "      <td>2.34</td>\n",
       "      <td>0.74</td>\n",
       "    </tr>\n",
       "    <tr>\n",
       "      <th>1959Q3</th>\n",
       "      <td>2775.488</td>\n",
       "      <td>1751.8</td>\n",
       "      <td>289.226</td>\n",
       "      <td>491.260</td>\n",
       "      <td>1916.4</td>\n",
       "      <td>29.350</td>\n",
       "      <td>140.5</td>\n",
       "      <td>3.82</td>\n",
       "      <td>5.3</td>\n",
       "      <td>178.657</td>\n",
       "      <td>2.74</td>\n",
       "      <td>1.09</td>\n",
       "    </tr>\n",
       "    <tr>\n",
       "      <th>1959Q4</th>\n",
       "      <td>2785.204</td>\n",
       "      <td>1753.7</td>\n",
       "      <td>299.356</td>\n",
       "      <td>484.052</td>\n",
       "      <td>1931.3</td>\n",
       "      <td>29.370</td>\n",
       "      <td>140.0</td>\n",
       "      <td>4.33</td>\n",
       "      <td>5.6</td>\n",
       "      <td>179.386</td>\n",
       "      <td>0.27</td>\n",
       "      <td>4.06</td>\n",
       "    </tr>\n",
       "    <tr>\n",
       "      <th>1960Q1</th>\n",
       "      <td>2847.699</td>\n",
       "      <td>1770.5</td>\n",
       "      <td>331.722</td>\n",
       "      <td>462.199</td>\n",
       "      <td>1955.5</td>\n",
       "      <td>29.540</td>\n",
       "      <td>139.6</td>\n",
       "      <td>3.50</td>\n",
       "      <td>5.2</td>\n",
       "      <td>180.007</td>\n",
       "      <td>2.31</td>\n",
       "      <td>1.19</td>\n",
       "    </tr>\n",
       "    <tr>\n",
       "      <th>...</th>\n",
       "      <td>...</td>\n",
       "      <td>...</td>\n",
       "      <td>...</td>\n",
       "      <td>...</td>\n",
       "      <td>...</td>\n",
       "      <td>...</td>\n",
       "      <td>...</td>\n",
       "      <td>...</td>\n",
       "      <td>...</td>\n",
       "      <td>...</td>\n",
       "      <td>...</td>\n",
       "      <td>...</td>\n",
       "    </tr>\n",
       "    <tr>\n",
       "      <th>2008Q3</th>\n",
       "      <td>13324.600</td>\n",
       "      <td>9267.7</td>\n",
       "      <td>1990.693</td>\n",
       "      <td>991.551</td>\n",
       "      <td>9838.3</td>\n",
       "      <td>216.889</td>\n",
       "      <td>1474.7</td>\n",
       "      <td>1.17</td>\n",
       "      <td>6.0</td>\n",
       "      <td>305.270</td>\n",
       "      <td>-3.16</td>\n",
       "      <td>4.33</td>\n",
       "    </tr>\n",
       "    <tr>\n",
       "      <th>2008Q4</th>\n",
       "      <td>13141.920</td>\n",
       "      <td>9195.3</td>\n",
       "      <td>1857.661</td>\n",
       "      <td>1007.273</td>\n",
       "      <td>9920.4</td>\n",
       "      <td>212.174</td>\n",
       "      <td>1576.5</td>\n",
       "      <td>0.12</td>\n",
       "      <td>6.9</td>\n",
       "      <td>305.952</td>\n",
       "      <td>-8.79</td>\n",
       "      <td>8.91</td>\n",
       "    </tr>\n",
       "    <tr>\n",
       "      <th>2009Q1</th>\n",
       "      <td>12925.410</td>\n",
       "      <td>9209.2</td>\n",
       "      <td>1558.494</td>\n",
       "      <td>996.287</td>\n",
       "      <td>9926.4</td>\n",
       "      <td>212.671</td>\n",
       "      <td>1592.8</td>\n",
       "      <td>0.22</td>\n",
       "      <td>8.1</td>\n",
       "      <td>306.547</td>\n",
       "      <td>0.94</td>\n",
       "      <td>-0.71</td>\n",
       "    </tr>\n",
       "    <tr>\n",
       "      <th>2009Q2</th>\n",
       "      <td>12901.504</td>\n",
       "      <td>9189.0</td>\n",
       "      <td>1456.678</td>\n",
       "      <td>1023.528</td>\n",
       "      <td>10077.5</td>\n",
       "      <td>214.469</td>\n",
       "      <td>1653.6</td>\n",
       "      <td>0.18</td>\n",
       "      <td>9.2</td>\n",
       "      <td>307.226</td>\n",
       "      <td>3.37</td>\n",
       "      <td>-3.19</td>\n",
       "    </tr>\n",
       "    <tr>\n",
       "      <th>2009Q3</th>\n",
       "      <td>12990.341</td>\n",
       "      <td>9256.0</td>\n",
       "      <td>1486.398</td>\n",
       "      <td>1044.088</td>\n",
       "      <td>10040.6</td>\n",
       "      <td>216.385</td>\n",
       "      <td>1673.9</td>\n",
       "      <td>0.12</td>\n",
       "      <td>9.6</td>\n",
       "      <td>308.013</td>\n",
       "      <td>3.56</td>\n",
       "      <td>-3.44</td>\n",
       "    </tr>\n",
       "  </tbody>\n",
       "</table>\n",
       "<p>203 rows × 12 columns</p>\n",
       "</div>"
      ],
      "text/plain": [
       "          realgdp  realcons   realinv  realgovt  realdpi      cpi      m1  \\\n",
       "Period                                                                      \n",
       "1959Q1   2710.349    1707.4   286.898   470.045   1886.9   28.980   139.7   \n",
       "1959Q2   2778.801    1733.7   310.859   481.301   1919.7   29.150   141.7   \n",
       "1959Q3   2775.488    1751.8   289.226   491.260   1916.4   29.350   140.5   \n",
       "1959Q4   2785.204    1753.7   299.356   484.052   1931.3   29.370   140.0   \n",
       "1960Q1   2847.699    1770.5   331.722   462.199   1955.5   29.540   139.6   \n",
       "...           ...       ...       ...       ...      ...      ...     ...   \n",
       "2008Q3  13324.600    9267.7  1990.693   991.551   9838.3  216.889  1474.7   \n",
       "2008Q4  13141.920    9195.3  1857.661  1007.273   9920.4  212.174  1576.5   \n",
       "2009Q1  12925.410    9209.2  1558.494   996.287   9926.4  212.671  1592.8   \n",
       "2009Q2  12901.504    9189.0  1456.678  1023.528  10077.5  214.469  1653.6   \n",
       "2009Q3  12990.341    9256.0  1486.398  1044.088  10040.6  216.385  1673.9   \n",
       "\n",
       "        tbilrate  unemp      pop  infl  realint  \n",
       "Period                                           \n",
       "1959Q1      2.82    5.8  177.146  0.00     0.00  \n",
       "1959Q2      3.08    5.1  177.830  2.34     0.74  \n",
       "1959Q3      3.82    5.3  178.657  2.74     1.09  \n",
       "1959Q4      4.33    5.6  179.386  0.27     4.06  \n",
       "1960Q1      3.50    5.2  180.007  2.31     1.19  \n",
       "...          ...    ...      ...   ...      ...  \n",
       "2008Q3      1.17    6.0  305.270 -3.16     4.33  \n",
       "2008Q4      0.12    6.9  305.952 -8.79     8.91  \n",
       "2009Q1      0.22    8.1  306.547  0.94    -0.71  \n",
       "2009Q2      0.18    9.2  307.226  3.37    -3.19  \n",
       "2009Q3      0.12    9.6  308.013  3.56    -3.44  \n",
       "\n",
       "[203 rows x 12 columns]"
      ]
     },
     "execution_count": 12,
     "metadata": {},
     "output_type": "execute_result"
    }
   ],
   "source": [
    "\n",
    "load_macroeconomic()\n"
   ]
  },
  {
   "cell_type": "code",
   "execution_count": 13,
   "id": "672d007b-757a-4e6c-9dcc-5af9f26472b7",
   "metadata": {},
   "outputs": [],
   "source": [
    "\n",
    "econ = load_macroeconomic()\n",
    "\n",
    "cols = ['realgdp','realdpi','tbilrate', 'unemp', 'infl']\n",
    "\n",
    "econ_df = econ[cols]\n"
   ]
  },
  {
   "cell_type": "code",
   "execution_count": 14,
   "id": "a10be6ad-e391-4988-9254-6e400a2ae40b",
   "metadata": {},
   "outputs": [
    {
     "data": {
      "text/plain": [
       "(203, 5)"
      ]
     },
     "execution_count": 14,
     "metadata": {},
     "output_type": "execute_result"
    }
   ],
   "source": [
    "\n",
    "econ_df.shape\n"
   ]
  },
  {
   "cell_type": "code",
   "execution_count": 15,
   "id": "3e7b2ba0-ae9e-4574-9959-704b83ebdead",
   "metadata": {},
   "outputs": [
    {
     "data": {
      "image/png": "[encoded data removed]",
      "text/plain": [
       "<Figure size 1600x1000 with 5 Axes>"
      ]
     },
     "metadata": {},
     "output_type": "display_data"
    }
   ],
   "source": [
    "\n",
    "econ_df.plot(subplots=True, figsize=(16, 10));plt.show()\n"
   ]
  },
  {
   "cell_type": "code",
   "execution_count": 16,
   "id": "1d92550a-91a6-4ee5-bdd3-9f3699f1c964",
   "metadata": {},
   "outputs": [
    {
     "data": {
      "text/html": [
       "<div>\n",
       "<style scoped>\n",
       "    .dataframe tbody tr th:only-of-type {\n",
       "        vertical-align: middle;\n",
       "    }\n",
       "\n",
       "    .dataframe tbody tr th {\n",
       "        vertical-align: top;\n",
       "    }\n",
       "\n",
       "    .dataframe thead th {\n",
       "        text-align: right;\n",
       "    }\n",
       "</style>\n",
       "<table border=\"1\" class=\"dataframe\">\n",
       "  <thead>\n",
       "    <tr style=\"text-align: right;\">\n",
       "      <th></th>\n",
       "      <th>realgdp</th>\n",
       "      <th>realdpi</th>\n",
       "      <th>tbilrate</th>\n",
       "      <th>unemp</th>\n",
       "      <th>infl</th>\n",
       "    </tr>\n",
       "    <tr>\n",
       "      <th>Period</th>\n",
       "      <th></th>\n",
       "      <th></th>\n",
       "      <th></th>\n",
       "      <th></th>\n",
       "      <th></th>\n",
       "    </tr>\n",
       "  </thead>\n",
       "  <tbody>\n",
       "    <tr>\n",
       "      <th>1959Q1</th>\n",
       "      <td>2710.349</td>\n",
       "      <td>1886.9</td>\n",
       "      <td>2.82</td>\n",
       "      <td>5.8</td>\n",
       "      <td>0.00</td>\n",
       "    </tr>\n",
       "    <tr>\n",
       "      <th>1959Q2</th>\n",
       "      <td>2778.801</td>\n",
       "      <td>1919.7</td>\n",
       "      <td>3.08</td>\n",
       "      <td>5.1</td>\n",
       "      <td>2.34</td>\n",
       "    </tr>\n",
       "    <tr>\n",
       "      <th>1959Q3</th>\n",
       "      <td>2775.488</td>\n",
       "      <td>1916.4</td>\n",
       "      <td>3.82</td>\n",
       "      <td>5.3</td>\n",
       "      <td>2.74</td>\n",
       "    </tr>\n",
       "    <tr>\n",
       "      <th>1959Q4</th>\n",
       "      <td>2785.204</td>\n",
       "      <td>1931.3</td>\n",
       "      <td>4.33</td>\n",
       "      <td>5.6</td>\n",
       "      <td>0.27</td>\n",
       "    </tr>\n",
       "    <tr>\n",
       "      <th>1960Q1</th>\n",
       "      <td>2847.699</td>\n",
       "      <td>1955.5</td>\n",
       "      <td>3.50</td>\n",
       "      <td>5.2</td>\n",
       "      <td>2.31</td>\n",
       "    </tr>\n",
       "  </tbody>\n",
       "</table>\n",
       "</div>"
      ],
      "text/plain": [
       "         realgdp  realdpi  tbilrate  unemp  infl\n",
       "Period                                          \n",
       "1959Q1  2710.349   1886.9      2.82    5.8  0.00\n",
       "1959Q2  2778.801   1919.7      3.08    5.1  2.34\n",
       "1959Q3  2775.488   1916.4      3.82    5.3  2.74\n",
       "1959Q4  2785.204   1931.3      4.33    5.6  0.27\n",
       "1960Q1  2847.699   1955.5      3.50    5.2  2.31"
      ]
     },
     "execution_count": 16,
     "metadata": {},
     "output_type": "execute_result"
    }
   ],
   "source": [
    "\n",
    "econ_df.head()\n"
   ]
  },
  {
   "cell_type": "code",
   "execution_count": 18,
   "id": "0ce213da-7f94-4fff-b93f-2238064eab8b",
   "metadata": {},
   "outputs": [
    {
     "name": "stderr",
     "output_type": "stream",
     "text": [
      "/var/folders/q4/zdsjyw0d297_fn6_fh5n7g9h0000gn/T/ipykernel_1596/2014303376.py:5: SettingWithCopyWarning: \n",
      "A value is trying to be set on a copy of a slice from a DataFrame.\n",
      "Try using .loc[row_indexer,col_indexer] = value instead\n",
      "\n",
      "See the caveats in the documentation: https://pandas.pydata.org/pandas-docs/stable/user_guide/indexing.html#returning-a-view-versus-a-copy\n",
      "  econ_df[col] = cond_deseason.fit_transform( econ_df[col] )\n",
      "/var/folders/q4/zdsjyw0d297_fn6_fh5n7g9h0000gn/T/ipykernel_1596/2014303376.py:6: SettingWithCopyWarning: \n",
      "A value is trying to be set on a copy of a slice from a DataFrame.\n",
      "Try using .loc[row_indexer,col_indexer] = value instead\n",
      "\n",
      "See the caveats in the documentation: https://pandas.pydata.org/pandas-docs/stable/user_guide/indexing.html#returning-a-view-versus-a-copy\n",
      "  econ_df[col] = detrend.fit_transform(       econ_df[col] )\n",
      "/var/folders/q4/zdsjyw0d297_fn6_fh5n7g9h0000gn/T/ipykernel_1596/2014303376.py:5: SettingWithCopyWarning: \n",
      "A value is trying to be set on a copy of a slice from a DataFrame.\n",
      "Try using .loc[row_indexer,col_indexer] = value instead\n",
      "\n",
      "See the caveats in the documentation: https://pandas.pydata.org/pandas-docs/stable/user_guide/indexing.html#returning-a-view-versus-a-copy\n",
      "  econ_df[col] = cond_deseason.fit_transform( econ_df[col] )\n",
      "/var/folders/q4/zdsjyw0d297_fn6_fh5n7g9h0000gn/T/ipykernel_1596/2014303376.py:6: SettingWithCopyWarning: \n",
      "A value is trying to be set on a copy of a slice from a DataFrame.\n",
      "Try using .loc[row_indexer,col_indexer] = value instead\n",
      "\n",
      "See the caveats in the documentation: https://pandas.pydata.org/pandas-docs/stable/user_guide/indexing.html#returning-a-view-versus-a-copy\n",
      "  econ_df[col] = detrend.fit_transform(       econ_df[col] )\n",
      "/var/folders/q4/zdsjyw0d297_fn6_fh5n7g9h0000gn/T/ipykernel_1596/2014303376.py:5: SettingWithCopyWarning: \n",
      "A value is trying to be set on a copy of a slice from a DataFrame.\n",
      "Try using .loc[row_indexer,col_indexer] = value instead\n",
      "\n",
      "See the caveats in the documentation: https://pandas.pydata.org/pandas-docs/stable/user_guide/indexing.html#returning-a-view-versus-a-copy\n",
      "  econ_df[col] = cond_deseason.fit_transform( econ_df[col] )\n",
      "/var/folders/q4/zdsjyw0d297_fn6_fh5n7g9h0000gn/T/ipykernel_1596/2014303376.py:6: SettingWithCopyWarning: \n",
      "A value is trying to be set on a copy of a slice from a DataFrame.\n",
      "Try using .loc[row_indexer,col_indexer] = value instead\n",
      "\n",
      "See the caveats in the documentation: https://pandas.pydata.org/pandas-docs/stable/user_guide/indexing.html#returning-a-view-versus-a-copy\n",
      "  econ_df[col] = detrend.fit_transform(       econ_df[col] )\n",
      "/var/folders/q4/zdsjyw0d297_fn6_fh5n7g9h0000gn/T/ipykernel_1596/2014303376.py:5: SettingWithCopyWarning: \n",
      "A value is trying to be set on a copy of a slice from a DataFrame.\n",
      "Try using .loc[row_indexer,col_indexer] = value instead\n",
      "\n",
      "See the caveats in the documentation: https://pandas.pydata.org/pandas-docs/stable/user_guide/indexing.html#returning-a-view-versus-a-copy\n",
      "  econ_df[col] = cond_deseason.fit_transform( econ_df[col] )\n",
      "/var/folders/q4/zdsjyw0d297_fn6_fh5n7g9h0000gn/T/ipykernel_1596/2014303376.py:6: SettingWithCopyWarning: \n",
      "A value is trying to be set on a copy of a slice from a DataFrame.\n",
      "Try using .loc[row_indexer,col_indexer] = value instead\n",
      "\n",
      "See the caveats in the documentation: https://pandas.pydata.org/pandas-docs/stable/user_guide/indexing.html#returning-a-view-versus-a-copy\n",
      "  econ_df[col] = detrend.fit_transform(       econ_df[col] )\n",
      "/var/folders/q4/zdsjyw0d297_fn6_fh5n7g9h0000gn/T/ipykernel_1596/2014303376.py:5: SettingWithCopyWarning: \n",
      "A value is trying to be set on a copy of a slice from a DataFrame.\n",
      "Try using .loc[row_indexer,col_indexer] = value instead\n",
      "\n",
      "See the caveats in the documentation: https://pandas.pydata.org/pandas-docs/stable/user_guide/indexing.html#returning-a-view-versus-a-copy\n",
      "  econ_df[col] = cond_deseason.fit_transform( econ_df[col] )\n",
      "/var/folders/q4/zdsjyw0d297_fn6_fh5n7g9h0000gn/T/ipykernel_1596/2014303376.py:6: SettingWithCopyWarning: \n",
      "A value is trying to be set on a copy of a slice from a DataFrame.\n",
      "Try using .loc[row_indexer,col_indexer] = value instead\n",
      "\n",
      "See the caveats in the documentation: https://pandas.pydata.org/pandas-docs/stable/user_guide/indexing.html#returning-a-view-versus-a-copy\n",
      "  econ_df[col] = detrend.fit_transform(       econ_df[col] )\n"
     ]
    }
   ],
   "source": [
    "\n",
    "cond_deseason = ConditionalDeseasonalizer(sp=4)\n",
    "detrend       = Detrender(forecaster=PolynomialTrendForecaster(degree=1))\n",
    "\n",
    "for col in econ_df:\n",
    "    econ_df[col] = cond_deseason.fit_transform( econ_df[col] )\n",
    "    econ_df[col] = detrend.fit_transform(       econ_df[col] )\n"
   ]
  },
  {
   "cell_type": "code",
   "execution_count": 19,
   "id": "3d769a8c-c2b3-4301-90c8-fc92ab54c776",
   "metadata": {},
   "outputs": [],
   "source": [
    "\n",
    "y    = econ_df['unemp']\n",
    "exog = econ_df.drop(columns=['unemp'])\n"
   ]
  },
  {
   "cell_type": "code",
   "execution_count": 23,
   "id": "13f24f9c-b0d0-482d-9d57-cd4922027fba",
   "metadata": {},
   "outputs": [
    {
     "data": {
      "text/plain": [
       "1959Q1    0.019981\n",
       "1959Q2   -0.682073\n",
       "1959Q3   -0.477137\n",
       "1959Q4   -0.178195\n",
       "1960Q1   -0.584254\n",
       "            ...   \n",
       "2008Q3    0.015321\n",
       "2008Q4    0.914262\n",
       "2009Q1    2.108203\n",
       "2009Q2    3.206149\n",
       "2009Q3    3.611085\n",
       "Freq: Q-DEC, Name: unemp, Length: 203, dtype: float64"
      ]
     },
     "execution_count": 23,
     "metadata": {},
     "output_type": "execute_result"
    }
   ],
   "source": [
    "\n",
    "y\n"
   ]
  },
  {
   "cell_type": "code",
   "execution_count": 22,
   "id": "c580218b-2409-4ea0-bf81-8e5db85dfd66",
   "metadata": {},
   "outputs": [
    {
     "data": {
      "text/html": [
       "<div>\n",
       "<style scoped>\n",
       "    .dataframe tbody tr th:only-of-type {\n",
       "        vertical-align: middle;\n",
       "    }\n",
       "\n",
       "    .dataframe tbody tr th {\n",
       "        vertical-align: top;\n",
       "    }\n",
       "\n",
       "    .dataframe thead th {\n",
       "        text-align: right;\n",
       "    }\n",
       "</style>\n",
       "<table border=\"1\" class=\"dataframe\">\n",
       "  <thead>\n",
       "    <tr style=\"text-align: right;\">\n",
       "      <th></th>\n",
       "      <th>realgdp</th>\n",
       "      <th>realdpi</th>\n",
       "      <th>tbilrate</th>\n",
       "      <th>infl</th>\n",
       "    </tr>\n",
       "  </thead>\n",
       "  <tbody>\n",
       "    <tr>\n",
       "      <th>1959Q1</th>\n",
       "      <td>935.499291</td>\n",
       "      <td>688.616981</td>\n",
       "      <td>-3.326594</td>\n",
       "      <td>-4.649796</td>\n",
       "    </tr>\n",
       "    <tr>\n",
       "      <th>1959Q2</th>\n",
       "      <td>941.129724</td>\n",
       "      <td>675.700479</td>\n",
       "      <td>-3.024784</td>\n",
       "      <td>-2.535008</td>\n",
       "    </tr>\n",
       "    <tr>\n",
       "      <th>1959Q3</th>\n",
       "      <td>885.348453</td>\n",
       "      <td>635.349564</td>\n",
       "      <td>-2.347751</td>\n",
       "      <td>-2.162302</td>\n",
       "    </tr>\n",
       "    <tr>\n",
       "      <th>1959Q4</th>\n",
       "      <td>846.376673</td>\n",
       "      <td>606.895231</td>\n",
       "      <td>-1.800005</td>\n",
       "      <td>-4.257355</td>\n",
       "    </tr>\n",
       "    <tr>\n",
       "      <th>1960Q1</th>\n",
       "      <td>857.340214</td>\n",
       "      <td>594.458648</td>\n",
       "      <td>-2.613408</td>\n",
       "      <td>-2.308508</td>\n",
       "    </tr>\n",
       "    <tr>\n",
       "      <th>...</th>\n",
       "      <td>...</td>\n",
       "      <td>...</td>\n",
       "      <td>...</td>\n",
       "      <td>...</td>\n",
       "    </tr>\n",
       "    <tr>\n",
       "      <th>2008Q3</th>\n",
       "      <td>874.515644</td>\n",
       "      <td>582.091265</td>\n",
       "      <td>-3.371671</td>\n",
       "      <td>-6.529231</td>\n",
       "    </tr>\n",
       "    <tr>\n",
       "      <th>2008Q4</th>\n",
       "      <td>643.147864</td>\n",
       "      <td>620.836932</td>\n",
       "      <td>-4.383925</td>\n",
       "      <td>-11.784284</td>\n",
       "    </tr>\n",
       "    <tr>\n",
       "      <th>2009Q1</th>\n",
       "      <td>375.106405</td>\n",
       "      <td>590.200349</td>\n",
       "      <td>-4.267328</td>\n",
       "      <td>-2.145437</td>\n",
       "    </tr>\n",
       "    <tr>\n",
       "      <th>2009Q2</th>\n",
       "      <td>288.378838</td>\n",
       "      <td>695.583847</td>\n",
       "      <td>-4.265519</td>\n",
       "      <td>0.059350</td>\n",
       "    </tr>\n",
       "    <tr>\n",
       "      <th>2009Q3</th>\n",
       "      <td>324.747566</td>\n",
       "      <td>621.632933</td>\n",
       "      <td>-4.388486</td>\n",
       "      <td>0.222056</td>\n",
       "    </tr>\n",
       "  </tbody>\n",
       "</table>\n",
       "<p>203 rows × 4 columns</p>\n",
       "</div>"
      ],
      "text/plain": [
       "           realgdp     realdpi  tbilrate       infl\n",
       "1959Q1  935.499291  688.616981 -3.326594  -4.649796\n",
       "1959Q2  941.129724  675.700479 -3.024784  -2.535008\n",
       "1959Q3  885.348453  635.349564 -2.347751  -2.162302\n",
       "1959Q4  846.376673  606.895231 -1.800005  -4.257355\n",
       "1960Q1  857.340214  594.458648 -2.613408  -2.308508\n",
       "...            ...         ...       ...        ...\n",
       "2008Q3  874.515644  582.091265 -3.371671  -6.529231\n",
       "2008Q4  643.147864  620.836932 -4.383925 -11.784284\n",
       "2009Q1  375.106405  590.200349 -4.267328  -2.145437\n",
       "2009Q2  288.378838  695.583847 -4.265519   0.059350\n",
       "2009Q3  324.747566  621.632933 -4.388486   0.222056\n",
       "\n",
       "[203 rows x 4 columns]"
      ]
     },
     "execution_count": 22,
     "metadata": {},
     "output_type": "execute_result"
    }
   ],
   "source": [
    "\n",
    "exog\n"
   ]
  },
  {
   "cell_type": "code",
   "execution_count": 24,
   "id": "decf3d71-a761-4132-8e36-3f03656f9f6c",
   "metadata": {},
   "outputs": [
    {
     "data": {
      "text/plain": [
       "20.3"
      ]
     },
     "execution_count": 24,
     "metadata": {},
     "output_type": "execute_result"
    }
   ],
   "source": [
    "\n",
    "len(econ_df)*0.1\n"
   ]
  },
  {
   "cell_type": "code",
   "execution_count": 26,
   "id": "3da6c319-93e3-4699-b861-90d64cfa9c35",
   "metadata": {},
   "outputs": [],
   "source": [
    "\n",
    "def split_data(df, test_split=0.15):\n",
    "    n = int(len(df) * test_split)\n",
    "    train, test = df[:-n], df[-n:]\n",
    "    return train, test\n"
   ]
  },
  {
   "cell_type": "code",
   "execution_count": 27,
   "id": "9ade123a-9738-4553-bf56-a9d048d4d4ba",
   "metadata": {},
   "outputs": [],
   "source": [
    "\n",
    "test_size = 0.1\n",
    "\n",
    "y_train, y_test       = split_data(y,    test_split=test_size)\n",
    "\n",
    "exog_train, exog_test = split_data(exog, test_split=test_size)\n"
   ]
  },
  {
   "cell_type": "code",
   "execution_count": 28,
   "id": "22f03621-eaa6-4ea7-93d1-9ce864f2bbec",
   "metadata": {},
   "outputs": [],
   "source": [
    "\n",
    "regressors = [\n",
    "    (\"LinearRegression\", make_reduction(LinearRegression())),\n",
    "    (\"RandomForest\", make_reduction(RandomForestRegressor())),\n",
    "    (\"SupportVectorRegressor\", make_reduction(SVR())),\n",
    "    (\"GradientBoosting\", make_reduction(GradientBoostingRegressor()))\n",
    "]\n"
   ]
  },
  {
   "cell_type": "code",
   "execution_count": 29,
   "id": "6544080e-75c5-4914-bd53-b8cb666fdff6",
   "metadata": {},
   "outputs": [],
   "source": [
    "\n",
    "ensemble = EnsembleForecaster(regressors)\n",
    "naive    = NaiveForecaster()\n"
   ]
  },
  {
   "cell_type": "code",
   "execution_count": 30,
   "id": "e268813a-afd9-4642-a568-b1d395966955",
   "metadata": {},
   "outputs": [
    {
     "data": {
      "text/html": [
       "<style>#sk-0d6dc1e3-0d64-4f27-9a3a-fed7a8166f4e {color: black;background-color: white;}#sk-0d6dc1e3-0d64-4f27-9a3a-fed7a8166f4e pre{padding: 0;}#sk-0d6dc1e3-0d64-4f27-9a3a-fed7a8166f4e div.sk-toggleable {background-color: white;}#sk-0d6dc1e3-0d64-4f27-9a3a-fed7a8166f4e label.sk-toggleable__label {cursor: pointer;display: block;width: 100%;margin-bottom: 0;padding: 0.3em;box-sizing: border-box;text-align: center;}#sk-0d6dc1e3-0d64-4f27-9a3a-fed7a8166f4e label.sk-toggleable__label-arrow:before {content: \"▸\";float: left;margin-right: 0.25em;color: #696969;}#sk-0d6dc1e3-0d64-4f27-9a3a-fed7a8166f4e label.sk-toggleable__label-arrow:hover:before {color: black;}#sk-0d6dc1e3-0d64-4f27-9a3a-fed7a8166f4e div.sk-estimator:hover label.sk-toggleable__label-arrow:before {color: black;}#sk-0d6dc1e3-0d64-4f27-9a3a-fed7a8166f4e div.sk-toggleable__content {max-height: 0;max-width: 0;overflow: hidden;text-align: left;background-color: #f0f8ff;}#sk-0d6dc1e3-0d64-4f27-9a3a-fed7a8166f4e div.sk-toggleable__content pre {margin: 0.2em;color: black;border-radius: 0.25em;background-color: #f0f8ff;}#sk-0d6dc1e3-0d64-4f27-9a3a-fed7a8166f4e input.sk-toggleable__control:checked~div.sk-toggleable__content {max-height: 200px;max-width: 100%;overflow: auto;}#sk-0d6dc1e3-0d64-4f27-9a3a-fed7a8166f4e input.sk-toggleable__control:checked~label.sk-toggleable__label-arrow:before {content: \"▾\";}#sk-0d6dc1e3-0d64-4f27-9a3a-fed7a8166f4e div.sk-estimator input.sk-toggleable__control:checked~label.sk-toggleable__label {background-color: #d4ebff;}#sk-0d6dc1e3-0d64-4f27-9a3a-fed7a8166f4e div.sk-label input.sk-toggleable__control:checked~label.sk-toggleable__label {background-color: #d4ebff;}#sk-0d6dc1e3-0d64-4f27-9a3a-fed7a8166f4e input.sk-hidden--visually {border: 0;clip: rect(1px 1px 1px 1px);clip: rect(1px, 1px, 1px, 1px);height: 1px;margin: -1px;overflow: hidden;padding: 0;position: absolute;width: 1px;}#sk-0d6dc1e3-0d64-4f27-9a3a-fed7a8166f4e div.sk-estimator {font-family: monospace;background-color: #f0f8ff;border: 1px dotted black;border-radius: 0.25em;box-sizing: border-box;margin-bottom: 0.5em;}#sk-0d6dc1e3-0d64-4f27-9a3a-fed7a8166f4e div.sk-estimator:hover {background-color: #d4ebff;}#sk-0d6dc1e3-0d64-4f27-9a3a-fed7a8166f4e div.sk-parallel-item::after {content: \"\";width: 100%;border-bottom: 1px solid gray;flex-grow: 1;}#sk-0d6dc1e3-0d64-4f27-9a3a-fed7a8166f4e div.sk-label:hover label.sk-toggleable__label {background-color: #d4ebff;}#sk-0d6dc1e3-0d64-4f27-9a3a-fed7a8166f4e div.sk-serial::before {content: \"\";position: absolute;border-left: 1px solid gray;box-sizing: border-box;top: 2em;bottom: 0;left: 50%;}#sk-0d6dc1e3-0d64-4f27-9a3a-fed7a8166f4e div.sk-serial {display: flex;flex-direction: column;align-items: center;background-color: white;padding-right: 0.2em;padding-left: 0.2em;}#sk-0d6dc1e3-0d64-4f27-9a3a-fed7a8166f4e div.sk-item {z-index: 1;}#sk-0d6dc1e3-0d64-4f27-9a3a-fed7a8166f4e div.sk-parallel {display: flex;align-items: stretch;justify-content: center;background-color: white;}#sk-0d6dc1e3-0d64-4f27-9a3a-fed7a8166f4e div.sk-parallel::before {content: \"\";position: absolute;border-left: 1px solid gray;box-sizing: border-box;top: 2em;bottom: 0;left: 50%;}#sk-0d6dc1e3-0d64-4f27-9a3a-fed7a8166f4e div.sk-parallel-item {display: flex;flex-direction: column;position: relative;background-color: white;}#sk-0d6dc1e3-0d64-4f27-9a3a-fed7a8166f4e div.sk-parallel-item:first-child::after {align-self: flex-end;width: 50%;}#sk-0d6dc1e3-0d64-4f27-9a3a-fed7a8166f4e div.sk-parallel-item:last-child::after {align-self: flex-start;width: 50%;}#sk-0d6dc1e3-0d64-4f27-9a3a-fed7a8166f4e div.sk-parallel-item:only-child::after {width: 0;}#sk-0d6dc1e3-0d64-4f27-9a3a-fed7a8166f4e div.sk-dashed-wrapped {border: 1px dashed gray;margin: 0 0.4em 0.5em 0.4em;box-sizing: border-box;padding-bottom: 0.4em;background-color: white;position: relative;}#sk-0d6dc1e3-0d64-4f27-9a3a-fed7a8166f4e div.sk-label label {font-family: monospace;font-weight: bold;background-color: white;display: inline-block;line-height: 1.2em;}#sk-0d6dc1e3-0d64-4f27-9a3a-fed7a8166f4e div.sk-label-container {position: relative;z-index: 2;text-align: center;}#sk-0d6dc1e3-0d64-4f27-9a3a-fed7a8166f4e div.sk-container {/* jupyter's `normalize.less` sets `[hidden] { display: none; }` but bootstrap.min.css set `[hidden] { display: none !important; }` so we also need the `!important` here to be able to override the default hidden behavior on the sphinx rendered scikit-learn.org. See: https://github.com/scikit-learn/scikit-learn/issues/21755 */display: inline-block !important;position: relative;}#sk-0d6dc1e3-0d64-4f27-9a3a-fed7a8166f4e div.sk-text-repr-fallback {display: none;}</style><div id='sk-0d6dc1e3-0d64-4f27-9a3a-fed7a8166f4e' class=\"sk-top-container\"><div class=\"sk-text-repr-fallback\"><pre>NaiveForecaster()</pre><b>Please rerun this cell to show the HTML repr or trust the notebook.</b></div><div class=\"sk-container\" hidden><div class='sk-item'><div class=\"sk-estimator sk-toggleable\"><input class=\"sk-toggleable__control sk-hidden--visually\" id=UUID('da8f43e0-e52d-4900-b358-0a6c39e96b4c') type=\"checkbox\" checked><label for=UUID('da8f43e0-e52d-4900-b358-0a6c39e96b4c') class='sk-toggleable__label sk-toggleable__label-arrow'>NaiveForecaster</label><div class=\"sk-toggleable__content\"><pre>NaiveForecaster()</pre></div></div></div></div></div>"
      ],
      "text/plain": [
       "NaiveForecaster()"
      ]
     },
     "execution_count": 30,
     "metadata": {},
     "output_type": "execute_result"
    }
   ],
   "source": [
    "\n",
    "ensemble.fit(y=y_train, X=exog_train)\n",
    "naive.fit(   y=y_train, X=exog_train)\n"
   ]
  },
  {
   "cell_type": "code",
   "execution_count": 31,
   "id": "8fa3a0c7-c5c5-47ad-a2b2-34bc73247577",
   "metadata": {},
   "outputs": [],
   "source": [
    "\n",
    "fh = ForecastingHorizon(y_test.index, is_relative=None)\n",
    "\n",
    "y_hat = pd.DataFrame(y_test).rename(columns={'unemp': 'test'})\n",
    "\n"
   ]
  },
  {
   "cell_type": "code",
   "execution_count": 33,
   "id": "2a1e6847-6d3e-46eb-b6a9-08492a3cde80",
   "metadata": {},
   "outputs": [
    {
     "name": "stderr",
     "output_type": "stream",
     "text": [
      "/Users/user/opt/anaconda3/envs/py39_time_series/lib/python3.9/site-packages/sktime/forecasting/compose/_ensemble.py:367: FutureWarning: DataFrame.groupby with axis=1 is deprecated. Do `frame.T.groupby(...)` without axis instead.\n",
      "  y_pred = y_pred.groupby(level=1, axis=1).agg(\n"
     ]
    }
   ],
   "source": [
    "\n",
    "y_hat['EnsembleForecaster'] = ensemble.predict(fh=fh, X=exog_test)\n",
    "y_hat['NaiveForecaster']    = naive.predict(   fh=fh, X=exog_test)\n"
   ]
  },
  {
   "cell_type": "code",
   "execution_count": 34,
   "id": "2f6eb080-a83b-433c-857d-0e07599111a3",
   "metadata": {},
   "outputs": [],
   "source": [
    "\n",
    "y_hat.rename(columns={'test':'y'}, inplace=True)\n"
   ]
  },
  {
   "cell_type": "code",
   "execution_count": 36,
   "id": "1f28d6dc-1440-4f1a-9c4e-f5dd391d195d",
   "metadata": {},
   "outputs": [],
   "source": [
    "\n",
    "def evaluate(df, train, sort_by='MASE'):\n",
    "    evals = pd.DataFrame(index=['sMAPE', 'MAPE', 'RMSE'])\n",
    "    y_truth = df['y']\n",
    "    y_predicted = df.drop(columns=['y'])\n",
    "    for p in y_predicted:\n",
    "        evals.loc['sMAPE', p] = mape(y_truth, y_predicted[p], symmetric=True)\n",
    "        evals.loc['MAPE', p] = mape(y_truth, y_predicted[p], symmetric=False)\n",
    "        evals.loc['RMSE', p] = np.sqrt(mse(y_truth, y_predicted[p]))\n",
    "        evals.loc['MASE', p] = mase(y_truth, y_predicted[p], y_train=train)\n",
    "    return evals.T.sort_values(by=sort_by)\n"
   ]
  },
  {
   "cell_type": "code",
   "execution_count": 37,
   "id": "4b5cab5c-fc4b-4256-87f7-e891039cb3f9",
   "metadata": {},
   "outputs": [
    {
     "data": {
      "text/html": [
       "<div>\n",
       "<style scoped>\n",
       "    .dataframe tbody tr th:only-of-type {\n",
       "        vertical-align: middle;\n",
       "    }\n",
       "\n",
       "    .dataframe tbody tr th {\n",
       "        vertical-align: top;\n",
       "    }\n",
       "\n",
       "    .dataframe thead th {\n",
       "        text-align: right;\n",
       "    }\n",
       "</style>\n",
       "<table border=\"1\" class=\"dataframe\">\n",
       "  <thead>\n",
       "    <tr style=\"text-align: right;\">\n",
       "      <th></th>\n",
       "      <th>sMAPE</th>\n",
       "      <th>MAPE</th>\n",
       "      <th>RMSE</th>\n",
       "      <th>MASE</th>\n",
       "    </tr>\n",
       "  </thead>\n",
       "  <tbody>\n",
       "    <tr>\n",
       "      <th>NaiveForecaster</th>\n",
       "      <td>MeanAbsolutePercentageError(multilevel=2004Q4 ...</td>\n",
       "      <td>MeanAbsolutePercentageError(multilevel=2004Q4 ...</td>\n",
       "      <td>1.537844</td>\n",
       "      <td>4.522654</td>\n",
       "    </tr>\n",
       "    <tr>\n",
       "      <th>EnsembleForecaster</th>\n",
       "      <td>MeanAbsolutePercentageError(multilevel=2004Q4 ...</td>\n",
       "      <td>MeanAbsolutePercentageError(multilevel=2004Q4 ...</td>\n",
       "      <td>1.358606</td>\n",
       "      <td>4.551323</td>\n",
       "    </tr>\n",
       "  </tbody>\n",
       "</table>\n",
       "</div>"
      ],
      "text/plain": [
       "                                                                sMAPE  \\\n",
       "NaiveForecaster     MeanAbsolutePercentageError(multilevel=2004Q4 ...   \n",
       "EnsembleForecaster  MeanAbsolutePercentageError(multilevel=2004Q4 ...   \n",
       "\n",
       "                                                                 MAPE  \\\n",
       "NaiveForecaster     MeanAbsolutePercentageError(multilevel=2004Q4 ...   \n",
       "EnsembleForecaster  MeanAbsolutePercentageError(multilevel=2004Q4 ...   \n",
       "\n",
       "                        RMSE      MASE  \n",
       "NaiveForecaster     1.537844  4.522654  \n",
       "EnsembleForecaster  1.358606  4.551323  "
      ]
     },
     "execution_count": 37,
     "metadata": {},
     "output_type": "execute_result"
    }
   ],
   "source": [
    "\n",
    "evaluate(y_hat, y_train)\n"
   ]
  },
  {
   "cell_type": "code",
   "execution_count": 38,
   "id": "565609d9-8307-45d8-b192-a12df0524140",
   "metadata": {},
   "outputs": [
    {
     "data": {
      "text/plain": [
       "<matplotlib.legend.Legend at 0x7fd7eaf30700>"
      ]
     },
     "execution_count": 38,
     "metadata": {},
     "output_type": "execute_result"
    },
    {
     "data": {
      "image/png": "[encoded data removed]",
      "text/plain": [
       "<Figure size 640x480 with 1 Axes>"
      ]
     },
     "metadata": {},
     "output_type": "display_data"
    }
   ],
   "source": [
    "\n",
    "styles = ['k--','rx-','yv-']\n",
    "\n",
    "for col, s in zip(y_hat, styles):\n",
    "    y_hat[col].plot(style=s, label=col, \n",
    "                    title='EnsembleForecaster vs NaiveForecaster')\n",
    "plt.legend()\n",
    "#plt.savefig('../../../Packt-Time-Series-Cookbook/Chapters/Ch12/images/fig_12.18.png', bbox_inches='tight', dpi=600)\n",
    "\n"
   ]
  },
  {
   "cell_type": "code",
   "execution_count": 39,
   "id": "31f18d3a-ea64-4e29-a85d-6f7acdc254da",
   "metadata": {},
   "outputs": [
    {
     "data": {
      "text/plain": [
       "[('LinearRegression',\n",
       "  RecursiveTabularRegressionForecaster(estimator=LinearRegression())),\n",
       " ('RandomForest',\n",
       "  RecursiveTabularRegressionForecaster(estimator=RandomForestRegressor())),\n",
       " ('SupportVectorRegressor',\n",
       "  RecursiveTabularRegressionForecaster(estimator=SVR())),\n",
       " ('GradientBoosting',\n",
       "  RecursiveTabularRegressionForecaster(estimator=GradientBoostingRegressor()))]"
      ]
     },
     "execution_count": 39,
     "metadata": {},
     "output_type": "execute_result"
    }
   ],
   "source": [
    "\n",
    "regressors\n"
   ]
  },
  {
   "cell_type": "code",
   "execution_count": 40,
   "id": "5c31fa97-19ec-4164-ae1c-3b8fd5a30f7d",
   "metadata": {},
   "outputs": [
    {
     "data": {
      "text/html": [
       "<style>#sk-c19fb8c0-65a5-486b-91c3-2c73302f56fe {color: black;background-color: white;}#sk-c19fb8c0-65a5-486b-91c3-2c73302f56fe pre{padding: 0;}#sk-c19fb8c0-65a5-486b-91c3-2c73302f56fe div.sk-toggleable {background-color: white;}#sk-c19fb8c0-65a5-486b-91c3-2c73302f56fe label.sk-toggleable__label {cursor: pointer;display: block;width: 100%;margin-bottom: 0;padding: 0.3em;box-sizing: border-box;text-align: center;}#sk-c19fb8c0-65a5-486b-91c3-2c73302f56fe label.sk-toggleable__label-arrow:before {content: \"▸\";float: left;margin-right: 0.25em;color: #696969;}#sk-c19fb8c0-65a5-486b-91c3-2c73302f56fe label.sk-toggleable__label-arrow:hover:before {color: black;}#sk-c19fb8c0-65a5-486b-91c3-2c73302f56fe div.sk-estimator:hover label.sk-toggleable__label-arrow:before {color: black;}#sk-c19fb8c0-65a5-486b-91c3-2c73302f56fe div.sk-toggleable__content {max-height: 0;max-width: 0;overflow: hidden;text-align: left;background-color: #f0f8ff;}#sk-c19fb8c0-65a5-486b-91c3-2c73302f56fe div.sk-toggleable__content pre {margin: 0.2em;color: black;border-radius: 0.25em;background-color: #f0f8ff;}#sk-c19fb8c0-65a5-486b-91c3-2c73302f56fe input.sk-toggleable__control:checked~div.sk-toggleable__content {max-height: 200px;max-width: 100%;overflow: auto;}#sk-c19fb8c0-65a5-486b-91c3-2c73302f56fe input.sk-toggleable__control:checked~label.sk-toggleable__label-arrow:before {content: \"▾\";}#sk-c19fb8c0-65a5-486b-91c3-2c73302f56fe div.sk-estimator input.sk-toggleable__control:checked~label.sk-toggleable__label {background-color: #d4ebff;}#sk-c19fb8c0-65a5-486b-91c3-2c73302f56fe div.sk-label input.sk-toggleable__control:checked~label.sk-toggleable__label {background-color: #d4ebff;}#sk-c19fb8c0-65a5-486b-91c3-2c73302f56fe input.sk-hidden--visually {border: 0;clip: rect(1px 1px 1px 1px);clip: rect(1px, 1px, 1px, 1px);height: 1px;margin: -1px;overflow: hidden;padding: 0;position: absolute;width: 1px;}#sk-c19fb8c0-65a5-486b-91c3-2c73302f56fe div.sk-estimator {font-family: monospace;background-color: #f0f8ff;border: 1px dotted black;border-radius: 0.25em;box-sizing: border-box;margin-bottom: 0.5em;}#sk-c19fb8c0-65a5-486b-91c3-2c73302f56fe div.sk-estimator:hover {background-color: #d4ebff;}#sk-c19fb8c0-65a5-486b-91c3-2c73302f56fe div.sk-parallel-item::after {content: \"\";width: 100%;border-bottom: 1px solid gray;flex-grow: 1;}#sk-c19fb8c0-65a5-486b-91c3-2c73302f56fe div.sk-label:hover label.sk-toggleable__label {background-color: #d4ebff;}#sk-c19fb8c0-65a5-486b-91c3-2c73302f56fe div.sk-serial::before {content: \"\";position: absolute;border-left: 1px solid gray;box-sizing: border-box;top: 2em;bottom: 0;left: 50%;}#sk-c19fb8c0-65a5-486b-91c3-2c73302f56fe div.sk-serial {display: flex;flex-direction: column;align-items: center;background-color: white;padding-right: 0.2em;padding-left: 0.2em;}#sk-c19fb8c0-65a5-486b-91c3-2c73302f56fe div.sk-item {z-index: 1;}#sk-c19fb8c0-65a5-486b-91c3-2c73302f56fe div.sk-parallel {display: flex;align-items: stretch;justify-content: center;background-color: white;}#sk-c19fb8c0-65a5-486b-91c3-2c73302f56fe div.sk-parallel::before {content: \"\";position: absolute;border-left: 1px solid gray;box-sizing: border-box;top: 2em;bottom: 0;left: 50%;}#sk-c19fb8c0-65a5-486b-91c3-2c73302f56fe div.sk-parallel-item {display: flex;flex-direction: column;position: relative;background-color: white;}#sk-c19fb8c0-65a5-486b-91c3-2c73302f56fe div.sk-parallel-item:first-child::after {align-self: flex-end;width: 50%;}#sk-c19fb8c0-65a5-486b-91c3-2c73302f56fe div.sk-parallel-item:last-child::after {align-self: flex-start;width: 50%;}#sk-c19fb8c0-65a5-486b-91c3-2c73302f56fe div.sk-parallel-item:only-child::after {width: 0;}#sk-c19fb8c0-65a5-486b-91c3-2c73302f56fe div.sk-dashed-wrapped {border: 1px dashed gray;margin: 0 0.4em 0.5em 0.4em;box-sizing: border-box;padding-bottom: 0.4em;background-color: white;position: relative;}#sk-c19fb8c0-65a5-486b-91c3-2c73302f56fe div.sk-label label {font-family: monospace;font-weight: bold;background-color: white;display: inline-block;line-height: 1.2em;}#sk-c19fb8c0-65a5-486b-91c3-2c73302f56fe div.sk-label-container {position: relative;z-index: 2;text-align: center;}#sk-c19fb8c0-65a5-486b-91c3-2c73302f56fe div.sk-container {/* jupyter's `normalize.less` sets `[hidden] { display: none; }` but bootstrap.min.css set `[hidden] { display: none !important; }` so we also need the `!important` here to be able to override the default hidden behavior on the sphinx rendered scikit-learn.org. See: https://github.com/scikit-learn/scikit-learn/issues/21755 */display: inline-block !important;position: relative;}#sk-c19fb8c0-65a5-486b-91c3-2c73302f56fe div.sk-text-repr-fallback {display: none;}</style><div id='sk-c19fb8c0-65a5-486b-91c3-2c73302f56fe' class=\"sk-top-container\"><div class=\"sk-text-repr-fallback\"><pre>AutoEnsembleForecaster(forecasters=[(&#x27;LinearRegression&#x27;,\n",
       "                                     RecursiveTabularRegressionForecaster(estimator=LinearRegression())),\n",
       "                                    (&#x27;RandomForest&#x27;,\n",
       "                                     RecursiveTabularRegressionForecaster(estimator=RandomForestRegressor())),\n",
       "                                    (&#x27;SupportVectorRegressor&#x27;,\n",
       "                                     RecursiveTabularRegressionForecaster(estimator=SVR())),\n",
       "                                    (&#x27;GradientBoosting&#x27;,\n",
       "                                     RecursiveTabularRegressionForecaster(estimator=GradientBoostingRegressor()))])</pre><b>Please rerun this cell to show the HTML repr or trust the notebook.</b></div><div class=\"sk-container\" hidden><div class=\"sk-item sk-dashed-wrapped\"><div class='sk-label-container'><div class=\"sk-label sk-toggleable\"><input class=\"sk-toggleable__control sk-hidden--visually\" id=UUID('da39d5fa-68dc-4db7-9af2-bf0fb0f48d8d') type=\"checkbox\" ><label for=UUID('da39d5fa-68dc-4db7-9af2-bf0fb0f48d8d') class='sk-toggleable__label sk-toggleable__label-arrow'>AutoEnsembleForecaster</label><div class=\"sk-toggleable__content\"><pre>AutoEnsembleForecaster(forecasters=[(&#x27;LinearRegression&#x27;,\n",
       "                                     RecursiveTabularRegressionForecaster(estimator=LinearRegression())),\n",
       "                                    (&#x27;RandomForest&#x27;,\n",
       "                                     RecursiveTabularRegressionForecaster(estimator=RandomForestRegressor())),\n",
       "                                    (&#x27;SupportVectorRegressor&#x27;,\n",
       "                                     RecursiveTabularRegressionForecaster(estimator=SVR())),\n",
       "                                    (&#x27;GradientBoosting&#x27;,\n",
       "                                     RecursiveTabularRegressionForecaster(estimator=GradientBoostingRegressor()))])</pre></div></div></div><div class=\"sk-parallel\"><div class=\"sk-parallel-item\"><div class=\"sk-item\"><div class=\"sk-serial\"><div class=\"sk-item sk-dashed-wrapped\"><div class=\"sk-parallel\"><div class=\"sk-parallel-item\"><div class=\"sk-item\"><div class=\"sk-serial\"><div class='sk-item'><div class=\"sk-estimator sk-toggleable\"><input class=\"sk-toggleable__control sk-hidden--visually\" id=UUID('a96321f3-398b-4e66-8277-9148dfbb0918') type=\"checkbox\" ><label for=UUID('a96321f3-398b-4e66-8277-9148dfbb0918') class='sk-toggleable__label sk-toggleable__label-arrow'>LinearRegression</label><div class=\"sk-toggleable__content\"><pre>LinearRegression()</pre></div></div></div></div></div></div></div></div></div></div></div><div class=\"sk-parallel-item\"><div class=\"sk-item\"><div class=\"sk-serial\"><div class=\"sk-item sk-dashed-wrapped\"><div class=\"sk-parallel\"><div class=\"sk-parallel-item\"><div class=\"sk-item\"><div class=\"sk-serial\"><div class='sk-item'><div class=\"sk-estimator sk-toggleable\"><input class=\"sk-toggleable__control sk-hidden--visually\" id=UUID('2a56615e-6cd0-4da2-951a-9afe2b39b846') type=\"checkbox\" ><label for=UUID('2a56615e-6cd0-4da2-951a-9afe2b39b846') class='sk-toggleable__label sk-toggleable__label-arrow'>RandomForestRegressor</label><div class=\"sk-toggleable__content\"><pre>RandomForestRegressor()</pre></div></div></div></div></div></div></div></div></div></div></div><div class=\"sk-parallel-item\"><div class=\"sk-item\"><div class=\"sk-serial\"><div class=\"sk-item sk-dashed-wrapped\"><div class=\"sk-parallel\"><div class=\"sk-parallel-item\"><div class=\"sk-item\"><div class=\"sk-serial\"><div class='sk-item'><div class=\"sk-estimator sk-toggleable\"><input class=\"sk-toggleable__control sk-hidden--visually\" id=UUID('432da927-bab8-41ea-aade-6a7a9438ceda') type=\"checkbox\" ><label for=UUID('432da927-bab8-41ea-aade-6a7a9438ceda') class='sk-toggleable__label sk-toggleable__label-arrow'>SVR</label><div class=\"sk-toggleable__content\"><pre>SVR()</pre></div></div></div></div></div></div></div></div></div></div></div><div class=\"sk-parallel-item\"><div class=\"sk-item\"><div class=\"sk-serial\"><div class=\"sk-item sk-dashed-wrapped\"><div class=\"sk-parallel\"><div class=\"sk-parallel-item\"><div class=\"sk-item\"><div class=\"sk-serial\"><div class='sk-item'><div class=\"sk-estimator sk-toggleable\"><input class=\"sk-toggleable__control sk-hidden--visually\" id=UUID('d7a467da-bf7b-41de-8f04-e451ac3b6597') type=\"checkbox\" ><label for=UUID('d7a467da-bf7b-41de-8f04-e451ac3b6597') class='sk-toggleable__label sk-toggleable__label-arrow'>GradientBoostingRegressor</label><div class=\"sk-toggleable__content\"><pre>GradientBoostingRegressor()</pre></div></div></div></div></div></div></div></div></div></div></div></div></div></div></div>"
      ],
      "text/plain": [
       "AutoEnsembleForecaster(forecasters=[('LinearRegression',\n",
       "                                     RecursiveTabularRegressionForecaster(estimator=LinearRegression())),\n",
       "                                    ('RandomForest',\n",
       "                                     RecursiveTabularRegressionForecaster(estimator=RandomForestRegressor())),\n",
       "                                    ('SupportVectorRegressor',\n",
       "                                     RecursiveTabularRegressionForecaster(estimator=SVR())),\n",
       "                                    ('GradientBoosting',\n",
       "                                     RecursiveTabularRegressionForecaster(estimator=GradientBoostingRegressor()))])"
      ]
     },
     "execution_count": 40,
     "metadata": {},
     "output_type": "execute_result"
    }
   ],
   "source": [
    "\n",
    "from sktime.forecasting.compose import AutoEnsembleForecaster\n",
    "\n",
    "auto = AutoEnsembleForecaster(forecasters=regressors,\n",
    "                             method='feature-importance')\n",
    "auto.fit(y=y_train, X=exog_train)\n"
   ]
  },
  {
   "cell_type": "code",
   "execution_count": 41,
   "id": "d2edf774-243c-48cc-93df-c96c0328fb1f",
   "metadata": {},
   "outputs": [
    {
     "data": {
      "text/plain": [
       "[0.028248482202669983,\n",
       " 0.3852059244559926,\n",
       " 0.14354039901623009,\n",
       " 0.4430051943251072]"
      ]
     },
     "execution_count": 41,
     "metadata": {},
     "output_type": "execute_result"
    }
   ],
   "source": [
    "\n",
    "auto.weights_\n"
   ]
  },
  {
   "cell_type": "code",
   "execution_count": 42,
   "id": "a2f52b6e-4fa5-41b3-a6c5-91a2e55075aa",
   "metadata": {},
   "outputs": [],
   "source": [
    "\n",
    "y_hat['AutoEnsembleForecaster'] = auto.predict(fh=fh, X=exog_test)\n"
   ]
  },
  {
   "cell_type": "code",
   "execution_count": 43,
   "id": "7e11071a-a56e-4e33-807d-e8702aea70ea",
   "metadata": {},
   "outputs": [
    {
     "data": {
      "text/html": [
       "<div>\n",
       "<style scoped>\n",
       "    .dataframe tbody tr th:only-of-type {\n",
       "        vertical-align: middle;\n",
       "    }\n",
       "\n",
       "    .dataframe tbody tr th {\n",
       "        vertical-align: top;\n",
       "    }\n",
       "\n",
       "    .dataframe thead th {\n",
       "        text-align: right;\n",
       "    }\n",
       "</style>\n",
       "<table border=\"1\" class=\"dataframe\">\n",
       "  <thead>\n",
       "    <tr style=\"text-align: right;\">\n",
       "      <th></th>\n",
       "      <th>sMAPE</th>\n",
       "      <th>MAPE</th>\n",
       "      <th>RMSE</th>\n",
       "      <th>MASE</th>\n",
       "    </tr>\n",
       "  </thead>\n",
       "  <tbody>\n",
       "    <tr>\n",
       "      <th>NaiveForecaster</th>\n",
       "      <td>MeanAbsolutePercentageError(multilevel=2004Q4 ...</td>\n",
       "      <td>MeanAbsolutePercentageError(multilevel=2004Q4 ...</td>\n",
       "      <td>1.537844</td>\n",
       "      <td>4.522654</td>\n",
       "    </tr>\n",
       "    <tr>\n",
       "      <th>EnsembleForecaster</th>\n",
       "      <td>MeanAbsolutePercentageError(multilevel=2004Q4 ...</td>\n",
       "      <td>MeanAbsolutePercentageError(multilevel=2004Q4 ...</td>\n",
       "      <td>1.358606</td>\n",
       "      <td>4.551323</td>\n",
       "    </tr>\n",
       "    <tr>\n",
       "      <th>AutoEnsembleForecaster</th>\n",
       "      <td>MeanAbsolutePercentageError(multilevel=2004Q4 ...</td>\n",
       "      <td>MeanAbsolutePercentageError(multilevel=2004Q4 ...</td>\n",
       "      <td>1.447506</td>\n",
       "      <td>4.665269</td>\n",
       "    </tr>\n",
       "  </tbody>\n",
       "</table>\n",
       "</div>"
      ],
      "text/plain": [
       "                                                                    sMAPE  \\\n",
       "NaiveForecaster         MeanAbsolutePercentageError(multilevel=2004Q4 ...   \n",
       "EnsembleForecaster      MeanAbsolutePercentageError(multilevel=2004Q4 ...   \n",
       "AutoEnsembleForecaster  MeanAbsolutePercentageError(multilevel=2004Q4 ...   \n",
       "\n",
       "                                                                     MAPE  \\\n",
       "NaiveForecaster         MeanAbsolutePercentageError(multilevel=2004Q4 ...   \n",
       "EnsembleForecaster      MeanAbsolutePercentageError(multilevel=2004Q4 ...   \n",
       "AutoEnsembleForecaster  MeanAbsolutePercentageError(multilevel=2004Q4 ...   \n",
       "\n",
       "                            RMSE      MASE  \n",
       "NaiveForecaster         1.537844  4.522654  \n",
       "EnsembleForecaster      1.358606  4.551323  \n",
       "AutoEnsembleForecaster  1.447506  4.665269  "
      ]
     },
     "execution_count": 43,
     "metadata": {},
     "output_type": "execute_result"
    }
   ],
   "source": [
    "\n",
    "evaluate(y_hat, y_train)\n"
   ]
  },
  {
   "cell_type": "markdown",
   "id": "2c40144f-aa92-4538-aeaa-a002a3b44ac0",
   "metadata": {},
   "source": [
    "\n",
    "## CIVS DATA\n"
   ]
  },
  {
   "cell_type": "code",
   "execution_count": null,
   "id": "a7ca2191-a59f-49c0-80a0-a60961d8160d",
   "metadata": {},
   "outputs": [],
   "source": [
    "\n",
    "\n"
   ]
  },
  {
   "cell_type": "code",
   "execution_count": null,
   "id": "b4873df8-9d7f-4118-8097-2df499f124e7",
   "metadata": {},
   "outputs": [],
   "source": []
  },
  {
   "cell_type": "code",
   "execution_count": null,
   "id": "bfb3af2d-e550-4b21-80eb-d8caf9fbdc4b",
   "metadata": {},
   "outputs": [],
   "source": []
  },
  {
   "cell_type": "code",
   "execution_count": null,
   "id": "f9389b8c-82b3-43cc-8f93-506521c48272",
   "metadata": {},
   "outputs": [],
   "source": []
  },
  {
   "cell_type": "code",
   "execution_count": null,
   "id": "0c4d2243-b5ec-46c4-b4a0-a4148bec30a0",
   "metadata": {},
   "outputs": [],
   "source": []
  },
  {
   "cell_type": "code",
   "execution_count": null,
   "id": "d2e28427-6eeb-4de7-b228-6a46944be4e6",
   "metadata": {},
   "outputs": [],
   "source": []
  },
  {
   "cell_type": "code",
   "execution_count": null,
   "id": "e54712e8-e637-48b1-a61d-40a038334173",
   "metadata": {},
   "outputs": [],
   "source": []
  },
  {
   "cell_type": "code",
   "execution_count": null,
   "id": "f0c51c23-e8f1-4f5f-a4e2-463bb6e8e9ac",
   "metadata": {},
   "outputs": [],
   "source": []
  },
  {
   "cell_type": "code",
   "execution_count": null,
   "id": "0ca8cb33-5c67-4188-a5da-b5c1f36525d7",
   "metadata": {},
   "outputs": [],
   "source": []
  },
  {
   "cell_type": "code",
   "execution_count": null,
   "id": "50cc825c-f0de-4f06-81c0-cb273c97bf72",
   "metadata": {},
   "outputs": [],
   "source": []
  },
  {
   "cell_type": "code",
   "execution_count": null,
   "id": "771e48d2-2367-44fe-a25e-c13dac1c3ab8",
   "metadata": {},
   "outputs": [],
   "source": []
  },
  {
   "cell_type": "code",
   "execution_count": null,
   "id": "61a455b9-7ef4-4936-a935-9506e1afee04",
   "metadata": {},
   "outputs": [],
   "source": []
  },
  {
   "cell_type": "code",
   "execution_count": null,
   "id": "e9b0eebc-80cd-47f2-bd9d-fa364232fae7",
   "metadata": {},
   "outputs": [],
   "source": []
  },
  {
   "cell_type": "code",
   "execution_count": null,
   "id": "d3927894-aad1-4fb0-b07a-6a51284f650d",
   "metadata": {},
   "outputs": [],
   "source": []
  },
  {
   "cell_type": "code",
   "execution_count": null,
   "id": "78630a03-ff0e-45df-bf7a-6b1d877560d3",
   "metadata": {},
   "outputs": [],
   "source": []
  }
 ],
 "metadata": {
  "kernelspec": {
   "display_name": "Python 3 (ipykernel)",
   "language": "python",
   "name": "python3"
  },
  "language_info": {
   "codemirror_mode": {
    "name": "ipython",
    "version": 3
   },
   "file_extension": ".py",
   "mimetype": "text/x-python",
   "name": "python",
   "nbconvert_exporter": "python",
   "pygments_lexer": "ipython3",
   "version": "3.9.18"
  }
 },
 "nbformat": 4,
 "nbformat_minor": 5
}
